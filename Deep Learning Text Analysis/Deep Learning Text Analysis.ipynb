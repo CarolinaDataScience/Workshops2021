{
 "cells": [
  {
   "cell_type": "markdown",
   "metadata": {},
   "source": [
    "# Text Analyses with Tensor Flow in Keras\n",
    "---\n",
    "\n",
    "![text-analysis-fb.png](assets/text-analysis-fb.png)"
   ]
  },
  {
   "cell_type": "markdown",
   "metadata": {},
   "source": [
    "## Introduction"
   ]
  },
  {
   "cell_type": "markdown",
   "metadata": {},
   "source": [
    "This notebook classifies movie reviews as *positive* or *negative* using the text of the review. This is an example of *binary*—or two-class—classification, an important and widely applicable kind of machine learning problem. \n",
    "\n",
    "We'll use the [IMDB dataset](https://www.tensorflow.org/api_docs/python/tf/keras/datasets/imdb) that contains the text of 50,000 movie reviews from the [Internet Movie Database](https://www.imdb.com/). These are split into 25,000 reviews for training and 25,000 reviews for testing. The training and testing sets are *balanced*, meaning they contain an equal number of positive and negative reviews. \n",
    "\n",
    "This notebook uses [tf.keras](https://www.tensorflow.org/guide/keras), a high-level API to build and train models in TensorFlow, and [TensorFlow Hub](https://www.tensorflow.org/hub), a library and platform for transfer learning. For a more advanced text classification tutorial using `tf.keras`, see the [MLCC Text Classification Guide](https://developers.google.com/machine-learning/guides/text-classification/)."
   ]
  },
  {
   "cell_type": "markdown",
   "metadata": {},
   "source": [
    "## Initial Set-Up"
   ]
  },
  {
   "cell_type": "markdown",
   "metadata": {},
   "source": [
    "!conda install keras\n",
    "!pip install tensorflow\n",
    "!pip install tensorflow_hub\n",
    "!pip install tensorflow_datasets"
   ]
  },
  {
   "cell_type": "code",
   "execution_count": 4,
   "metadata": {},
   "outputs": [
    {
     "name": "stdout",
     "output_type": "stream",
     "text": [
      "Version:  2.8.0\n",
      "Eager mode:  True\n",
      "Hub version:  0.12.0\n",
      "GPU is NOT AVAILABLE\n"
     ]
    }
   ],
   "source": [
    "import numpy as np\n",
    "\n",
    "import tensorflow as tf\n",
    "import tensorflow_hub as hub\n",
    "import tensorflow_datasets as tfds\n",
    "\n",
    "import matplotlib.pyplot as plt\n",
    "\n",
    "print(\"Version: \", tf.__version__)\n",
    "print(\"Eager mode: \", tf.executing_eagerly())\n",
    "print(\"Hub version: \", hub.__version__)\n",
    "print(\"GPU is\", \"available\" if tf.config.list_physical_devices('GPU') else \"NOT AVAILABLE\")"
   ]
  },
  {
   "cell_type": "markdown",
   "metadata": {},
   "source": [
    "## Downloading The Data"
   ]
  },
  {
   "cell_type": "code",
   "execution_count": 6,
   "metadata": {},
   "outputs": [],
   "source": [
    "train_data, test_data = tfds.load(name=\"imdb_reviews\", split=[\"train\", \"test\"], \n",
    "                                  batch_size=-1, as_supervised=True)\n",
    "\n",
    "train_examples, train_labels = tfds.as_numpy(train_data)\n",
    "test_examples, test_labels = tfds.as_numpy(test_data)"
   ]
  },
  {
   "cell_type": "markdown",
   "metadata": {},
   "source": [
    "# Exploring The Data\n",
    "\n",
    "Let's take a moment to understand the format of the data. Each example is a sentence representing the movie review and a corresponding label. The sentence is not preprocessed in any way. The label is an integer value of either 0 or 1, where 0 is a negative review, and 1 is a positive review. These labels are kept separate from the training data (aka the examples). "
   ]
  },
  {
   "cell_type": "code",
   "execution_count": 7,
   "metadata": {},
   "outputs": [
    {
     "name": "stdout",
     "output_type": "stream",
     "text": [
      "Training entries: 25000, test entries: 25000\n"
     ]
    }
   ],
   "source": [
    "# Checking the length of the training and test sets. \n",
    "print(\"Training entries: {}, test entries: {}\".format(len(train_examples), len(test_examples)))"
   ]
  },
  {
   "cell_type": "code",
   "execution_count": 8,
   "metadata": {},
   "outputs": [
    {
     "data": {
      "text/plain": [
       "array([b\"This was an absolutely terrible movie. Don't be lured in by Christopher Walken or Michael Ironside. Both are great actors, but this must simply be their worst role in history. Even their great acting could not redeem this movie's ridiculous storyline. This movie is an early nineties US propaganda piece. The most pathetic scenes were those when the Columbian rebels were making their cases for revolutions. Maria Conchita Alonso appeared phony, and her pseudo-love affair with Walken was nothing but a pathetic emotional plug in a movie that was devoid of any real meaning. I am disappointed that there are movies like this, ruining actor's like Christopher Walken's good name. I could barely sit through it.\",\n",
       "       b'I have been known to fall asleep during films, but this is usually due to a combination of things including, really tired, being warm and comfortable on the sette and having just eaten a lot. However on this occasion I fell asleep because the film was rubbish. The plot development was constant. Constantly slow and boring. Things seemed to happen, but with no explanation of what was causing them or why. I admit, I may have missed part of the film, but i watched the majority of it and everything just seemed to happen of its own accord without any real concern for anything else. I cant recommend this film at all.',\n",
       "       b'Mann photographs the Alberta Rocky Mountains in a superb fashion, and Jimmy Stewart and Walter Brennan give enjoyable performances as they always seem to do. <br /><br />But come on Hollywood - a Mountie telling the people of Dawson City, Yukon to elect themselves a marshal (yes a marshal!) and to enforce the law themselves, then gunfighters battling it out on the streets for control of the town? <br /><br />Nothing even remotely resembling that happened on the Canadian side of the border during the Klondike gold rush. Mr. Mann and company appear to have mistaken Dawson City for Deadwood, the Canadian North for the American Wild West.<br /><br />Canadian viewers be prepared for a Reefer Madness type of enjoyable howl with this ludicrous plot, or, to shake your head in disgust.',\n",
       "       b'This is the kind of film for a snowy Sunday afternoon when the rest of the world can go ahead with its own business as you descend into a big arm-chair and mellow for a couple of hours. Wonderful performances from Cher and Nicolas Cage (as always) gently row the plot along. There are no rapids to cross, no dangerous waters, just a warm and witty paddle through New York life at its best. A family film in every sense and one that deserves the praise it received.',\n",
       "       b'As others have mentioned, all the women that go nude in this film are mostly absolutely gorgeous. The plot very ably shows the hypocrisy of the female libido. When men are around they want to be pursued, but when no \"men\" are around, they become the pursuers of a 14 year old boy. And the boy becomes a man really fast (we should all be so lucky at this age!). He then gets up the courage to pursue his true love.'],\n",
       "      dtype=object)"
      ]
     },
     "execution_count": 8,
     "metadata": {},
     "output_type": "execute_result"
    }
   ],
   "source": [
    "# Looking at the first 5 examples. \n",
    "train_examples[:5]"
   ]
  },
  {
   "cell_type": "code",
   "execution_count": 10,
   "metadata": {},
   "outputs": [
    {
     "data": {
      "text/plain": [
       "array([0, 0, 0, 1, 1])"
      ]
     },
     "execution_count": 10,
     "metadata": {},
     "output_type": "execute_result"
    }
   ],
   "source": [
    "# Looking at the first 5 labels. \n",
    "train_labels[:5]"
   ]
  },
  {
   "cell_type": "markdown",
   "metadata": {},
   "source": [
    "# Building the Model\n",
    "\n",
    "A neural network is created by stacking layers. This requires three main architectural decisions:\n",
    "\n",
    "- How to represent the text?\n",
    "- How many layers to use in the model?\n",
    "- How many hidden units to use for each layer?\n",
    "\n",
    "In this example, the input data consists of sentences. The labels to predict sentiment are either 0 or 1.\n",
    "\n",
    "One way to represent the text is to convert sentences into embeddings vectors. \n",
    "\n",
    "We can use a pre-trained text embedding as the first layer, which will have two advantages:\n",
    "- we don't have to worry about text preprocessing,\n",
    "- we can benefit from transfer learning.\n",
    "\n",
    "For this example we will use a model from TensorFlow Hub called google/nnlm-en-dim50/2."
   ]
  },
  {
   "cell_type": "code",
   "execution_count": 11,
   "metadata": {},
   "outputs": [],
   "source": [
    "model = \"https://tfhub.dev/google/nnlm-en-dim50/2\""
   ]
  },
  {
   "cell_type": "markdown",
   "metadata": {},
   "source": [
    "### Creating First Keras Layer\n",
    "Let's first create a Keras layer that uses a TensorFlow Hub model to embed the sentences. "
   ]
  },
  {
   "cell_type": "code",
   "execution_count": 12,
   "metadata": {},
   "outputs": [
    {
     "data": {
      "text/plain": [
       "<tf.Tensor: shape=(3, 50), dtype=float32, numpy=\n",
       "array([[ 0.5423195 , -0.0119017 ,  0.06337538,  0.06862972, -0.16776837,\n",
       "        -0.10581174,  0.16865303, -0.04998824, -0.31148055,  0.07910346,\n",
       "         0.15442263,  0.01488662,  0.03930153,  0.19772711, -0.12215476,\n",
       "        -0.04120981, -0.2704109 , -0.21922152,  0.26517662, -0.80739075,\n",
       "         0.25833532, -0.3100421 ,  0.28683215,  0.1943387 , -0.29036492,\n",
       "         0.03862849, -0.7844411 , -0.0479324 ,  0.4110299 , -0.36388892,\n",
       "        -0.58034706,  0.30269456,  0.3630897 , -0.15227164, -0.44391504,\n",
       "         0.19462997,  0.19528408,  0.05666234,  0.2890704 , -0.28468323,\n",
       "        -0.00531206,  0.0571938 , -0.3201318 , -0.04418665, -0.08550783,\n",
       "        -0.55847436, -0.23336391, -0.20782952, -0.03543064, -0.17533456],\n",
       "       [ 0.56338924, -0.12339553, -0.10862679,  0.7753425 , -0.07667089,\n",
       "        -0.15752277,  0.01872335, -0.08169781, -0.3521876 ,  0.4637341 ,\n",
       "        -0.08492756,  0.07166859, -0.00670817,  0.12686075, -0.19326553,\n",
       "        -0.52626437, -0.3295823 ,  0.14394785,  0.09043556, -0.5417555 ,\n",
       "         0.02468163, -0.15456742,  0.68333143,  0.09068331, -0.45327246,\n",
       "         0.23180096, -0.8615696 ,  0.34480393,  0.12838456, -0.58759046,\n",
       "        -0.4071231 ,  0.23061076,  0.48426893, -0.27128142, -0.5380916 ,\n",
       "         0.47016326,  0.22572741, -0.00830663,  0.2846242 , -0.304985  ,\n",
       "         0.04400365,  0.25025874,  0.14867121,  0.40717036, -0.15422426,\n",
       "        -0.06878027, -0.40825695, -0.3149215 ,  0.09283665, -0.20183425],\n",
       "       [ 0.7456154 ,  0.21256861,  0.14400336,  0.5233862 ,  0.11032254,\n",
       "         0.00902788, -0.3667802 , -0.08938274, -0.24165542,  0.33384594,\n",
       "        -0.11194605, -0.01460047, -0.0071645 ,  0.19562712,  0.00685216,\n",
       "        -0.24886718, -0.42796347,  0.18620004, -0.05241098, -0.66462487,\n",
       "         0.13449019, -0.22205497,  0.08633006,  0.43685386,  0.2972681 ,\n",
       "         0.36140734, -0.7196889 ,  0.05291241, -0.14316116, -0.1573394 ,\n",
       "        -0.15056328, -0.05988009, -0.08178931, -0.15569411, -0.09303783,\n",
       "        -0.18971172,  0.07620788, -0.02541647, -0.27134508, -0.3392682 ,\n",
       "        -0.10296468, -0.27275252, -0.34078008,  0.20083304, -0.26644835,\n",
       "         0.00655449, -0.05141488, -0.04261917, -0.45413622,  0.20023568]],\n",
       "      dtype=float32)>"
      ]
     },
     "execution_count": 12,
     "metadata": {},
     "output_type": "execute_result"
    }
   ],
   "source": [
    "hub_layer = hub.KerasLayer(model, input_shape=[], dtype=tf.string, trainable=True)\n",
    "hub_layer(train_examples[:3])"
   ]
  },
  {
   "cell_type": "markdown",
   "metadata": {},
   "source": [
    "### Building The Full Model\n",
    "\n",
    "The layers are stacked sequentially to build the classifier:\n",
    "\n",
    "The first layer is a TensorFlow Hub layer. This layer uses a pre-trained Saved Model to map a sentence into its embedding vector. The model that we are using (google/nnlm-en-dim50/2) splits the sentence into tokens, embeds each token and then combines the embedding. The resulting dimensions are: (num_examples, embedding_dimension).\n",
    "\n",
    "This fixed-length output vector is piped through a fully-connected (Dense) layer with 16 hidden units.\n",
    "\n",
    "The last layer is densely connected with a single output node. This outputs logits: the log-odds of the true class, according to the model."
   ]
  },
  {
   "cell_type": "code",
   "execution_count": 13,
   "metadata": {},
   "outputs": [
    {
     "name": "stdout",
     "output_type": "stream",
     "text": [
      "Model: \"sequential\"\n",
      "_________________________________________________________________\n",
      " Layer (type)                Output Shape              Param #   \n",
      "=================================================================\n",
      " keras_layer (KerasLayer)    (None, 50)                48190600  \n",
      "                                                                 \n",
      " dense (Dense)               (None, 16)                816       \n",
      "                                                                 \n",
      " dense_1 (Dense)             (None, 1)                 17        \n",
      "                                                                 \n",
      "=================================================================\n",
      "Total params: 48,191,433\n",
      "Trainable params: 48,191,433\n",
      "Non-trainable params: 0\n",
      "_________________________________________________________________\n"
     ]
    }
   ],
   "source": [
    "model = tf.keras.Sequential()\n",
    "model.add(hub_layer)\n",
    "model.add(tf.keras.layers.Dense(16, activation='relu'))\n",
    "model.add(tf.keras.layers.Dense(1))\n",
    "\n",
    "model.summary()"
   ]
  },
  {
   "cell_type": "markdown",
   "metadata": {},
   "source": [
    "### Hidden units\n",
    "\n",
    "The above model has two intermediate or \"hidden\" layers, between the input and output. The number of outputs (units, nodes, or neurons) is the dimension of the representational space for the layer. In other words, the amount of freedom the network is allowed when learning an internal representation.\n",
    "\n",
    "If a model has more hidden units (a higher-dimensional representation space), and/or more layers, then the network can learn more complex representations. However, it makes the network more computationally expensive and may lead to learning unwanted patterns—patterns that improve performance on training data but not on the test data. This is called overfitting."
   ]
  },
  {
   "cell_type": "markdown",
   "metadata": {},
   "source": [
    "### Loss function and optimizer\n",
    "\n",
    "A model needs a loss function and an optimizer for training. \n",
    "\n",
    "Since this is a binary classification problem and the model outputs a probability (a single-unit layer with a sigmoid activation), we'll use the binary_crossentropy loss function.\n",
    "\n",
    "This isn't the only choice for a loss function, you could, for instance, choose mean_squared_error. But, generally, binary_crossentropy is better for dealing with probabilities. It measures the \"distance\" between probability distributions, or in our case, between the ground-truth distribution and the predictions.\n",
    "\n",
    "Now, configure the model to use an optimizer and a loss function:"
   ]
  },
  {
   "cell_type": "code",
   "execution_count": 14,
   "metadata": {},
   "outputs": [],
   "source": [
    "model.compile(optimizer='adam',\n",
    "              loss=tf.losses.BinaryCrossentropy(from_logits=True),\n",
    "              metrics=[tf.metrics.BinaryAccuracy(threshold=0.0, name='accuracy')])"
   ]
  },
  {
   "cell_type": "markdown",
   "metadata": {},
   "source": [
    "# Creating a Validation Set\n",
    "\n",
    "When training, we want to check the accuracy of the model on data it hasn't seen before. We can create a validation set by setting apart 10,000 examples from the original training data. We do not want to use the testing set now because our goal is to develop and tune our model using only the training data, and then use the test data just once to evaluate our accuracy."
   ]
  },
  {
   "cell_type": "code",
   "execution_count": 15,
   "metadata": {},
   "outputs": [],
   "source": [
    "x_val = train_examples[:10000]\n",
    "partial_x_train = train_examples[10000:]\n",
    "\n",
    "y_val = train_labels[:10000]\n",
    "partial_y_train = train_labels[10000:]"
   ]
  },
  {
   "cell_type": "markdown",
   "metadata": {},
   "source": [
    "# Training the Model\n",
    "\n",
    "We are going to train the model for 40 epochs in mini-batches of 512 samples. \n",
    "\n",
    "This is 40 iterations over all samples in the x_train and y_train tensors. \n",
    "\n",
    "While training, we will monitor the model's loss and accuracy on the 10,000 samples from the validation set:"
   ]
  },
  {
   "cell_type": "code",
   "execution_count": 16,
   "metadata": {},
   "outputs": [
    {
     "name": "stdout",
     "output_type": "stream",
     "text": [
      "Epoch 1/40\n",
      "30/30 [==============================] - 21s 686ms/step - loss: 0.6989 - accuracy: 0.5237 - val_loss: 0.6772 - val_accuracy: 0.6420\n",
      "Epoch 2/40\n",
      "30/30 [==============================] - 21s 689ms/step - loss: 0.6302 - accuracy: 0.7267 - val_loss: 0.5789 - val_accuracy: 0.7560\n",
      "Epoch 3/40\n",
      "30/30 [==============================] - 20s 684ms/step - loss: 0.4947 - accuracy: 0.8219 - val_loss: 0.4609 - val_accuracy: 0.8165\n",
      "Epoch 4/40\n",
      "30/30 [==============================] - 20s 686ms/step - loss: 0.3579 - accuracy: 0.8801 - val_loss: 0.3761 - val_accuracy: 0.8455\n",
      "Epoch 5/40\n",
      "30/30 [==============================] - 20s 686ms/step - loss: 0.2570 - accuracy: 0.9145 - val_loss: 0.3330 - val_accuracy: 0.8617\n",
      "Epoch 6/40\n",
      "30/30 [==============================] - 20s 687ms/step - loss: 0.1912 - accuracy: 0.9400 - val_loss: 0.3137 - val_accuracy: 0.8688\n",
      "Epoch 7/40\n",
      "30/30 [==============================] - 21s 689ms/step - loss: 0.1409 - accuracy: 0.9615 - val_loss: 0.3095 - val_accuracy: 0.8720\n",
      "Epoch 8/40\n",
      "30/30 [==============================] - 20s 674ms/step - loss: 0.1019 - accuracy: 0.9756 - val_loss: 0.3089 - val_accuracy: 0.8752\n",
      "Epoch 9/40\n",
      "30/30 [==============================] - 20s 677ms/step - loss: 0.0724 - accuracy: 0.9859 - val_loss: 0.3163 - val_accuracy: 0.8747\n",
      "Epoch 10/40\n",
      "30/30 [==============================] - 21s 687ms/step - loss: 0.0519 - accuracy: 0.9926 - val_loss: 0.3290 - val_accuracy: 0.8721\n",
      "Epoch 11/40\n",
      "30/30 [==============================] - 20s 684ms/step - loss: 0.0372 - accuracy: 0.9967 - val_loss: 0.3395 - val_accuracy: 0.8733\n",
      "Epoch 12/40\n",
      "30/30 [==============================] - 20s 681ms/step - loss: 0.0271 - accuracy: 0.9984 - val_loss: 0.3522 - val_accuracy: 0.8709\n",
      "Epoch 13/40\n",
      "30/30 [==============================] - 21s 690ms/step - loss: 0.0202 - accuracy: 0.9991 - val_loss: 0.3642 - val_accuracy: 0.8710\n",
      "Epoch 14/40\n",
      "30/30 [==============================] - 21s 713ms/step - loss: 0.0153 - accuracy: 0.9995 - val_loss: 0.3764 - val_accuracy: 0.8699\n",
      "Epoch 15/40\n",
      "30/30 [==============================] - 21s 706ms/step - loss: 0.0120 - accuracy: 0.9997 - val_loss: 0.3884 - val_accuracy: 0.8696\n",
      "Epoch 16/40\n",
      "30/30 [==============================] - 22s 728ms/step - loss: 0.0095 - accuracy: 0.9999 - val_loss: 0.3984 - val_accuracy: 0.8695\n",
      "Epoch 17/40\n",
      "30/30 [==============================] - 22s 736ms/step - loss: 0.0077 - accuracy: 0.9999 - val_loss: 0.4095 - val_accuracy: 0.8681\n",
      "Epoch 18/40\n",
      "30/30 [==============================] - 21s 690ms/step - loss: 0.0064 - accuracy: 0.9999 - val_loss: 0.4183 - val_accuracy: 0.8679\n",
      "Epoch 19/40\n",
      "30/30 [==============================] - 22s 736ms/step - loss: 0.0053 - accuracy: 0.9999 - val_loss: 0.4278 - val_accuracy: 0.8673\n",
      "Epoch 20/40\n",
      "30/30 [==============================] - 21s 688ms/step - loss: 0.0044 - accuracy: 1.0000 - val_loss: 0.4360 - val_accuracy: 0.8674\n",
      "Epoch 21/40\n",
      "30/30 [==============================] - 21s 708ms/step - loss: 0.0038 - accuracy: 1.0000 - val_loss: 0.4443 - val_accuracy: 0.8663\n",
      "Epoch 22/40\n",
      "30/30 [==============================] - 21s 701ms/step - loss: 0.0033 - accuracy: 1.0000 - val_loss: 0.4516 - val_accuracy: 0.8671\n",
      "Epoch 23/40\n",
      "30/30 [==============================] - 21s 716ms/step - loss: 0.0029 - accuracy: 1.0000 - val_loss: 0.4590 - val_accuracy: 0.8661\n",
      "Epoch 24/40\n",
      "30/30 [==============================] - 21s 705ms/step - loss: 0.0026 - accuracy: 1.0000 - val_loss: 0.4655 - val_accuracy: 0.8661\n",
      "Epoch 25/40\n",
      "30/30 [==============================] - 21s 705ms/step - loss: 0.0023 - accuracy: 1.0000 - val_loss: 0.4720 - val_accuracy: 0.8665\n",
      "Epoch 26/40\n",
      "30/30 [==============================] - 22s 755ms/step - loss: 0.0020 - accuracy: 1.0000 - val_loss: 0.4783 - val_accuracy: 0.8660\n",
      "Epoch 27/40\n",
      "30/30 [==============================] - 32s 1s/step - loss: 0.0018 - accuracy: 1.0000 - val_loss: 0.4841 - val_accuracy: 0.8662\n",
      "Epoch 28/40\n",
      "30/30 [==============================] - 27s 898ms/step - loss: 0.0017 - accuracy: 1.0000 - val_loss: 0.4899 - val_accuracy: 0.8660\n",
      "Epoch 29/40\n",
      "30/30 [==============================] - 22s 719ms/step - loss: 0.0015 - accuracy: 1.0000 - val_loss: 0.4951 - val_accuracy: 0.8657\n",
      "Epoch 30/40\n",
      "30/30 [==============================] - 22s 726ms/step - loss: 0.0014 - accuracy: 1.0000 - val_loss: 0.5004 - val_accuracy: 0.8656\n",
      "Epoch 31/40\n",
      "30/30 [==============================] - 21s 697ms/step - loss: 0.0013 - accuracy: 1.0000 - val_loss: 0.5055 - val_accuracy: 0.8655\n",
      "Epoch 32/40\n",
      "30/30 [==============================] - 21s 687ms/step - loss: 0.0012 - accuracy: 1.0000 - val_loss: 0.5106 - val_accuracy: 0.8651\n",
      "Epoch 33/40\n",
      "30/30 [==============================] - 21s 703ms/step - loss: 0.0011 - accuracy: 1.0000 - val_loss: 0.5153 - val_accuracy: 0.8652\n",
      "Epoch 34/40\n",
      "30/30 [==============================] - 20s 685ms/step - loss: 9.9107e-04 - accuracy: 1.0000 - val_loss: 0.5197 - val_accuracy: 0.8654\n",
      "Epoch 35/40\n",
      "30/30 [==============================] - 21s 687ms/step - loss: 9.1861e-04 - accuracy: 1.0000 - val_loss: 0.5246 - val_accuracy: 0.8641\n",
      "Epoch 36/40\n",
      "30/30 [==============================] - 21s 708ms/step - loss: 8.5605e-04 - accuracy: 1.0000 - val_loss: 0.5289 - val_accuracy: 0.8640\n",
      "Epoch 37/40\n",
      "30/30 [==============================] - 22s 722ms/step - loss: 7.9683e-04 - accuracy: 1.0000 - val_loss: 0.5328 - val_accuracy: 0.8649\n",
      "Epoch 38/40\n",
      "30/30 [==============================] - 26s 878ms/step - loss: 7.4439e-04 - accuracy: 1.0000 - val_loss: 0.5369 - val_accuracy: 0.8648\n",
      "Epoch 39/40\n",
      "30/30 [==============================] - 30s 1s/step - loss: 6.9740e-04 - accuracy: 1.0000 - val_loss: 0.5410 - val_accuracy: 0.8645\n",
      "Epoch 40/40\n",
      "30/30 [==============================] - 23s 751ms/step - loss: 6.5399e-04 - accuracy: 1.0000 - val_loss: 0.5448 - val_accuracy: 0.8644\n"
     ]
    }
   ],
   "source": [
    "history = model.fit(partial_x_train,\n",
    "                    partial_y_train,\n",
    "                    epochs=40,\n",
    "                    batch_size=512,\n",
    "                    validation_data=(x_val, y_val),\n",
    "                    verbose=1)"
   ]
  },
  {
   "cell_type": "markdown",
   "metadata": {},
   "source": [
    "# Evaluating the Model\n",
    "\n",
    "To see how the model performs, we can consider two values: Loss and Accuracy. Loss is a number that represents error and lower values are better. Accuracy is the number of correct predictions whenc ompared to our labels. "
   ]
  },
  {
   "cell_type": "code",
   "execution_count": 17,
   "metadata": {},
   "outputs": [
    {
     "name": "stdout",
     "output_type": "stream",
     "text": [
      "782/782 [==============================] - 90s 114ms/step - loss: 0.6045 - accuracy: 0.8450\n",
      "[0.6044904589653015, 0.8449599742889404]\n"
     ]
    }
   ],
   "source": [
    "results = model.evaluate(test_examples, test_labels)\n",
    "\n",
    "print(results)"
   ]
  },
  {
   "cell_type": "markdown",
   "metadata": {},
   "source": [
    "# Checking Loss and Accuracy\n",
    "\n",
    "When we used model.fit() it returned a History object that contains a dictionary with everything that happened during training. \n",
    "\n",
    "There are four entries: one for each monitored metric during training and validation. We can use these to plot the training and validation loss for comparison, as well as the training and validation accuracy."
   ]
  },
  {
   "cell_type": "code",
   "execution_count": 19,
   "metadata": {},
   "outputs": [
    {
     "data": {
      "text/plain": [
       "dict_keys(['loss', 'accuracy', 'val_loss', 'val_accuracy'])"
      ]
     },
     "execution_count": 19,
     "metadata": {},
     "output_type": "execute_result"
    }
   ],
   "source": [
    "history_dict = history.history\n",
    "history_dict.keys()"
   ]
  },
  {
   "cell_type": "code",
   "execution_count": 20,
   "metadata": {},
   "outputs": [],
   "source": [
    "acc = history_dict['accuracy']\n",
    "val_acc = history_dict['val_accuracy']\n",
    "loss = history_dict['loss']\n",
    "val_loss = history_dict['val_loss']\n",
    "\n",
    "epochs = range(1, len(acc) + 1)"
   ]
  },
  {
   "cell_type": "code",
   "execution_count": 21,
   "metadata": {},
   "outputs": [
    {
     "data": {
      "image/png": "[encoded data removed]",
      "text/plain": [
       "<Figure size 432x288 with 1 Axes>"
      ]
     },
     "metadata": {
      "needs_background": "light"
     },
     "output_type": "display_data"
    }
   ],
   "source": [
    "# Generating Loss Plot\n",
    "\n",
    "# \"bo\" is for \"blue dot\"\n",
    "plt.plot(epochs, loss, 'bo', label='Training loss')\n",
    "# b is for \"solid blue line\"\n",
    "plt.plot(epochs, val_loss, 'b', label='Validation loss')\n",
    "plt.title('Training and validation loss')\n",
    "plt.xlabel('Epochs')\n",
    "plt.ylabel('Loss')\n",
    "plt.legend()\n",
    "\n",
    "plt.show()"
   ]
  },
  {
   "cell_type": "code",
   "execution_count": 22,
   "metadata": {},
   "outputs": [
    {
     "data": {
      "image/png": "[encoded data removed]",
      "text/plain": [
       "<Figure size 432x288 with 1 Axes>"
      ]
     },
     "metadata": {
      "needs_background": "light"
     },
     "output_type": "display_data"
    }
   ],
   "source": [
    "plt.clf()   # clearing previous figure\n",
    "\n",
    "# Generating Accuracy Plot\n",
    "plt.plot(epochs, acc, 'bo', label='Training acc')\n",
    "plt.plot(epochs, val_acc, 'b', label='Validation acc')\n",
    "plt.title('Training and validation accuracy')\n",
    "plt.xlabel('Epochs')\n",
    "plt.ylabel('Accuracy')\n",
    "plt.legend()\n",
    "\n",
    "plt.show()"
   ]
  },
  {
   "cell_type": "markdown",
   "metadata": {},
   "source": [
    "# First Model Findings\n",
    "\n",
    "In this plot, the dots represent the training loss and accuracy, and the solid lines are the validation loss and accuracy.\n",
    "\n",
    "Notice the training loss decreases with each epoch and the training accuracy increases with each epoch. This is expected when using a gradient descent optimization—it should minimize the desired quantity on every iteration.\n",
    "\n",
    "This isn't the case for the validation loss and accuracy—they seem to peak after about twenty epochs. \n",
    "\n",
    "This is an example of overfitting: the model performs better on the training data than it does on data it has never seen before. After this point, the model over-optimizes and learns representations specific to the training data that do not generalize to test data.\n",
    "\n",
    "For this particular case, we could prevent overfitting by simply stopping the training after twenty or so epochs. "
   ]
  },
  {
   "cell_type": "markdown",
   "metadata": {},
   "source": [
    "# Trying A Different Model\n",
    "\n",
    "Let's change the model to 20 epochs to see if we can improve it. "
   ]
  },
  {
   "cell_type": "code",
   "execution_count": 29,
   "metadata": {},
   "outputs": [],
   "source": [
    "model = \"https://tfhub.dev/google/nnlm-en-dim50-with-normalization/2\""
   ]
  },
  {
   "cell_type": "code",
   "execution_count": 30,
   "metadata": {},
   "outputs": [
    {
     "name": "stdout",
     "output_type": "stream",
     "text": [
      "Model: \"sequential_1\"\n",
      "_________________________________________________________________\n",
      " Layer (type)                Output Shape              Param #   \n",
      "=================================================================\n",
      " keras_layer (KerasLayer)    (None, 50)                48190600  \n",
      "                                                                 \n",
      " dense_2 (Dense)             (None, 16)                816       \n",
      "                                                                 \n",
      " dense_3 (Dense)             (None, 1)                 17        \n",
      "                                                                 \n",
      "=================================================================\n",
      "Total params: 48,191,433\n",
      "Trainable params: 48,191,433\n",
      "Non-trainable params: 0\n",
      "_________________________________________________________________\n"
     ]
    }
   ],
   "source": [
    "model = tf.keras.Sequential()\n",
    "model.add(hub_layer)\n",
    "model.add(tf.keras.layers.Dense(16, activation='relu'))\n",
    "model.add(tf.keras.layers.Dense(1))\n",
    "\n",
    "model.summary()"
   ]
  },
  {
   "cell_type": "code",
   "execution_count": 31,
   "metadata": {},
   "outputs": [],
   "source": [
    "model.compile(optimizer='adam',\n",
    "              loss=tf.losses.BinaryCrossentropy(from_logits=True),\n",
    "              metrics=[tf.metrics.BinaryAccuracy(threshold=0.0, name='accuracy')])"
   ]
  },
  {
   "cell_type": "code",
   "execution_count": 32,
   "metadata": {},
   "outputs": [
    {
     "name": "stdout",
     "output_type": "stream",
     "text": [
      "Epoch 1/20\n",
      "30/30 [==============================] - 22s 726ms/step - loss: 0.4343 - accuracy: 0.9593 - val_loss: 0.4186 - val_accuracy: 0.8536\n",
      "Epoch 2/20\n",
      "30/30 [==============================] - 23s 780ms/step - loss: 0.2239 - accuracy: 0.9902 - val_loss: 0.3354 - val_accuracy: 0.8656\n",
      "Epoch 3/20\n",
      "30/30 [==============================] - 22s 726ms/step - loss: 0.1228 - accuracy: 0.9975 - val_loss: 0.3104 - val_accuracy: 0.8714\n",
      "Epoch 4/20\n",
      "30/30 [==============================] - 25s 855ms/step - loss: 0.0748 - accuracy: 0.9991 - val_loss: 0.3083 - val_accuracy: 0.8734\n",
      "Epoch 5/20\n",
      "30/30 [==============================] - 24s 787ms/step - loss: 0.0473 - accuracy: 0.9995 - val_loss: 0.3169 - val_accuracy: 0.8719\n",
      "Epoch 6/20\n",
      "30/30 [==============================] - 22s 720ms/step - loss: 0.0306 - accuracy: 0.9998 - val_loss: 0.3280 - val_accuracy: 0.8728\n",
      "Epoch 7/20\n",
      "30/30 [==============================] - 22s 727ms/step - loss: 0.0210 - accuracy: 0.9999 - val_loss: 0.3414 - val_accuracy: 0.8720\n",
      "Epoch 8/20\n",
      "30/30 [==============================] - 22s 738ms/step - loss: 0.0151 - accuracy: 1.0000 - val_loss: 0.3544 - val_accuracy: 0.8699\n",
      "Epoch 9/20\n",
      "30/30 [==============================] - 21s 719ms/step - loss: 0.0114 - accuracy: 1.0000 - val_loss: 0.3670 - val_accuracy: 0.8707\n",
      "Epoch 10/20\n",
      "30/30 [==============================] - 22s 745ms/step - loss: 0.0088 - accuracy: 1.0000 - val_loss: 0.3785 - val_accuracy: 0.8696\n",
      "Epoch 11/20\n",
      "30/30 [==============================] - 22s 747ms/step - loss: 0.0070 - accuracy: 1.0000 - val_loss: 0.3896 - val_accuracy: 0.8690\n",
      "Epoch 12/20\n",
      "30/30 [==============================] - 22s 738ms/step - loss: 0.0057 - accuracy: 1.0000 - val_loss: 0.3999 - val_accuracy: 0.8680\n",
      "Epoch 13/20\n",
      "30/30 [==============================] - 22s 728ms/step - loss: 0.0047 - accuracy: 1.0000 - val_loss: 0.4095 - val_accuracy: 0.8675\n",
      "Epoch 14/20\n",
      "30/30 [==============================] - 22s 725ms/step - loss: 0.0040 - accuracy: 1.0000 - val_loss: 0.4184 - val_accuracy: 0.8668\n",
      "Epoch 15/20\n",
      "30/30 [==============================] - 21s 718ms/step - loss: 0.0034 - accuracy: 1.0000 - val_loss: 0.4270 - val_accuracy: 0.8668\n",
      "Epoch 16/20\n",
      "30/30 [==============================] - 22s 736ms/step - loss: 0.0029 - accuracy: 1.0000 - val_loss: 0.4350 - val_accuracy: 0.8665\n",
      "Epoch 17/20\n",
      "30/30 [==============================] - 21s 717ms/step - loss: 0.0025 - accuracy: 1.0000 - val_loss: 0.4427 - val_accuracy: 0.8661\n",
      "Epoch 18/20\n",
      "30/30 [==============================] - 23s 775ms/step - loss: 0.0022 - accuracy: 1.0000 - val_loss: 0.4500 - val_accuracy: 0.8664\n",
      "Epoch 19/20\n",
      "30/30 [==============================] - 22s 747ms/step - loss: 0.0020 - accuracy: 1.0000 - val_loss: 0.4572 - val_accuracy: 0.8659\n",
      "Epoch 20/20\n",
      "30/30 [==============================] - 22s 741ms/step - loss: 0.0018 - accuracy: 1.0000 - val_loss: 0.4639 - val_accuracy: 0.8659\n"
     ]
    }
   ],
   "source": [
    "history = model.fit(partial_x_train,\n",
    "                    partial_y_train,\n",
    "                    epochs=20,\n",
    "                    batch_size=512,\n",
    "                    validation_data=(x_val, y_val),\n",
    "                    verbose=1)"
   ]
  },
  {
   "cell_type": "code",
   "execution_count": 33,
   "metadata": {},
   "outputs": [
    {
     "name": "stdout",
     "output_type": "stream",
     "text": [
      "782/782 [==============================] - 92s 117ms/step - loss: 0.5142 - accuracy: 0.8460\n",
      "[0.5142050981521606, 0.8460400104522705]\n"
     ]
    }
   ],
   "source": [
    "results = model.evaluate(test_examples, test_labels)\n",
    "\n",
    "print(results)"
   ]
  },
  {
   "cell_type": "code",
   "execution_count": 34,
   "metadata": {},
   "outputs": [],
   "source": [
    "history_dict = history.history\n",
    "acc = history_dict['accuracy']\n",
    "val_acc = history_dict['val_accuracy']\n",
    "loss = history_dict['loss']\n",
    "val_loss = history_dict['val_loss']\n",
    "\n",
    "epochs = range(1, len(acc) + 1)"
   ]
  },
  {
   "cell_type": "code",
   "execution_count": 35,
   "metadata": {},
   "outputs": [
    {
     "data": {
      "image/png": "[encoded data removed]",
      "text/plain": [
       "<Figure size 432x288 with 1 Axes>"
      ]
     },
     "metadata": {
      "needs_background": "light"
     },
     "output_type": "display_data"
    }
   ],
   "source": [
    "# Generating Loss Plot\n",
    "\n",
    "# \"bo\" is for \"blue dot\"\n",
    "plt.plot(epochs, loss, 'bo', label='Training loss')\n",
    "# b is for \"solid blue line\"\n",
    "plt.plot(epochs, val_loss, 'b', label='Validation loss')\n",
    "plt.title('Training and validation loss')\n",
    "plt.xlabel('Epochs')\n",
    "plt.ylabel('Loss')\n",
    "plt.legend()\n",
    "\n",
    "plt.show()"
   ]
  },
  {
   "cell_type": "code",
   "execution_count": 36,
   "metadata": {},
   "outputs": [
    {
     "data": {
      "image/png": "[encoded data removed]",
      "text/plain": [
       "<Figure size 432x288 with 1 Axes>"
      ]
     },
     "metadata": {
      "needs_background": "light"
     },
     "output_type": "display_data"
    }
   ],
   "source": [
    "plt.clf()   # clearing previous figure\n",
    "\n",
    "# Generating Accuracy Plot\n",
    "plt.plot(epochs, acc, 'bo', label='Training acc')\n",
    "plt.plot(epochs, val_acc, 'b', label='Validation acc')\n",
    "plt.title('Training and validation accuracy')\n",
    "plt.xlabel('Epochs')\n",
    "plt.ylabel('Accuracy')\n",
    "plt.legend()\n",
    "\n",
    "plt.show()"
   ]
  }
 ],
 "metadata": {
  "kernelspec": {
   "display_name": "Python 3",
   "language": "python",
   "name": "python3"
  },
  "language_info": {
   "codemirror_mode": {
    "name": "ipython",
    "version": 3
   },
   "file_extension": ".py",
   "mimetype": "text/x-python",
   "name": "python",
   "nbconvert_exporter": "python",
   "pygments_lexer": "ipython3",
   "version": "3.8.5"
  }
 },
 "nbformat": 4,
 "nbformat_minor": 4
}

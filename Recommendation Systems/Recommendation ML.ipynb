{
 "cells": [
  {
   "cell_type": "markdown",
   "metadata": {},
   "source": [
    "# In-Depth Machine Learning: Recommendation Systems\n",
    "\n",
    "---"
   ]
  },
  {
   "cell_type": "markdown",
   "metadata": {},
   "source": [
    "# Introduction\n",
    "\n",
    "---\n",
    "\n",
    "### What is a Recommendation System? \n",
    "A recommendation systems works to filter data using different algorithms to recommend the most relevant items to users. Often, it first captures the past behavior of a customer and then recommends things based on that past behavior. \n",
    "\n",
    "### Example Flow of a Recommendation System:\n",
    "1. Collect the data from the customer in the form of ratings.\n",
    "2. Comment and store data in a standard database.\n",
    "3. Filter the data to extract the relevant meaningful information required.\n",
    "4. Predict the final recommendations.\n",
    "\n",
    "### Data and Data Collection\n",
    "The data used in a reccommendation system can take many forms. Possible data could relate to customer behavior, interests, browsing history, and even their similarity with another likely customer.\n",
    "\n",
    "Data can be collected explicitly and/or implicitly. **Explicit data** is information that is provided intentionally. This includes any form of input from the users, such as the contribution of movie ratings. **Implicit data** is information that is not provided intentionally but gathered from available data streams. This includes things like search history, clicks, order history, etc.\n"
   ]
  },
  {
   "cell_type": "markdown",
   "metadata": {},
   "source": [
    "# Main Types of Recommendation Systems\n",
    "\n",
    "---"
   ]
  },
  {
   "cell_type": "markdown",
   "metadata": {},
   "source": [
    "## Content-Based Filtering/Recommenders\n",
    "\n",
    "---\n",
    "\n",
    "Content-based filtering is often based on the description of the product or the keywords used to specify more about the product. This filtering technique studies a user’s preferred choices and then delivers the most relevant recommendations. Essentially, based on what we like, the algorithm will simply reccomend similar items.\n",
    "\n",
    "A major drawback of this algorithm is that it is limited to recommending items that are of the same type. It will never recommend products which the user has not bought or liked in the past. So if a user has watched or liked only action movies in the past, the system will recommend only action movies. In this respect, this method is a very narrow way of building an engine.\n",
    "\n",
    "There are a number of ways to measure similarity, and this is a major decision point in this approach. Common methods include Euclidean Distance, Cosine Similarity, and Pearson's Correlation, with Cosine Similarity probably being the most popular. \n",
    "\n",
    "### Euclidean Distance\n",
    "This is the distance \"as the crow flies\" or the straight line between two points. \n",
    "\n",
    "![EuclideanDisPic.png](assets/EuclideanDisPic.png) \n",
    "\n",
    "### Cosine Similarity\n",
    "Cosine similarity works to quantify the relationship between two vectors. \n",
    "\n",
    "Suppose A and B are 2 movie vectors, A = profile vector and B = item vector, then the similarity between them can be calculated as:\n",
    "\n",
    "![CosSimPic.png](assets/CosSimPic.png)\n",
    "\n",
    "An advanced version of the cosine similarity function can be seen here: \n",
    "\n",
    "![CosSimEq.png](assets/CosSimEq.png)\n",
    "\n",
    "Based on the cosine similarity values, which range between -1 to 1, the movies would be arranged in descending order and deliver the top-most recommendations to the user. If the value is near 1 it would have a strong positive relationship, if the value is near -1 then it would have a strong negative relationship, and if the value is close to 0, there would be no relationship.\n",
    "\n",
    "![CosSimPic2.png](assets/CosSimPic2.png)\n",
    "\n",
    "The main drawback of this technique is that it recommends movies in the same genre only. If we want recommendations from another movie genre then it might not perform well.\n",
    "\n",
    "### Pearson's Correlation\n",
    "Pearson’s Correlation can tell us the extent to which two items are correlated. A higher correlation would indicate greater similarity. \n",
    "\n",
    "Pearson’s correlation can be calculated for two users, u and v, using the following formula:\n",
    "\n",
    "![PearsonCorPic.png](assets/PearsonCorPic.png) \n",
    "\n",
    "With:\n",
    " - rᵤᵢ = rating given by user (u) to item (i)\n",
    " - rᵥᵢ = rating given by user (v) to item (i)\n",
    " - rᵥ (mean) = mean of a rating given by user (v)"
   ]
  },
  {
   "cell_type": "markdown",
   "metadata": {},
   "source": [
    "## Collaborative-Based Filtering/Recommenders\n",
    "---\n",
    "\n",
    "Collaborative filtering techniques usually work with user’s preferences, activities, and behavior. They give recommendations to the user based on similarity with the other likely users. For the collaborative filtering techniques we don’t need any additional information just need to collect and analyze user’s behavior. Thus, this is one of the most commonly used algorithms in the industry as it is not dependent on any additional information. There are different types of collaborating filtering techniques and we shall look at them in detail below."
   ]
  },
  {
   "cell_type": "markdown",
   "metadata": {},
   "source": [
    "## User - User Collaborative Filtering\n",
    "---\n",
    "\n",
    "This algorithm first determines the similarity between the users. Based on the similarity score, it identifies the most similar users and recommends products which these similar users have liked or bought previously. Users having a higher similarity score will tend to be recommended similar things. \n",
    "\n",
    "As an example, this algorithm could work to find the similarity between each user based on the ratings they have previously given to different movies. The prediction of an item for a user u is calculated by computing the weighted sum of the user ratings given by other users to an item i.\n",
    "\n",
    "The prediction Pu,i is given by:\n",
    "\n",
    "![UUCollabPic.png](assets/UUCollabPic.png) \n",
    "\n",
    "With this, \n",
    " - Pu,i is the prediction of an item\n",
    " - Rv,i is the rating given by a user v to a movie i\n",
    " - Su,v is the similarity between users\n",
    "\n",
    "\n",
    "With the ratings for users in a profile vector, we cna then use that to predict the ratings for other users. \n",
    "\n",
    "The followings steps are taken to then get that final recommendation:\n",
    "1. First, to calculate the similarity between the user u and v, we can make use of Pearson correlations.\n",
    "2. We can then find the items rated by both the users and, using those ratings, we can calculate the correlation between the users.\n",
    "3. The predictions can then be calculated using these similarity values. The algorithm calculates the similarity between each user and then based on each similarity calculates the predictions. With this, the assumption is that users who have a high correlation will tend to be similar.\n",
    "4. Based on the prediction values, recommendations can made.\n",
    "\n",
    "### An Example\n",
    "\n",
    "![UUMatrix.png](assets/UUMatrix.png)\n",
    "\n",
    "Here we have a user movie rating matrix, with each user represented with each row, and different movies represented in each column. \n",
    "\n",
    "To understand this, let’s find the similarity between users (A, C) and (B, C) in the above table using Pearson’s correlation. Common movies rated by A and C are movies x2 and x4 and by B and C are movies x2, x4 and x5.\n",
    "\n",
    "![UUCorr.png](assets/UUCorr.png)\n",
    "\n",
    "The correlation between user A and C is more than the correlation between B and C. Therefore, users A and C have more similarity and the movies liked by user A will be recommended to user C and vice versa.\n",
    "\n",
    "As a warning, this algorithm can be computationally intensive as it involves calculating the similarity for each user and then calculating prediction for each similarity score. This technique is only really usable when there is a low or moderate data size. \n",
    "\n",
    "One way of handling this problem is to select only a few users (neighbors) instead of all to make predictions, i.e. instead of making predictions for all similarity values, we choose only few similarity values. \n",
    "\n",
    "There are various ways to select neighbors:\n",
    " - Select a threshold similarity and choose all the users above that value\n",
    " - Randomly select the users\n",
    " - Arrange the neighbors in descending order of their similarity value and choose top-N users\n",
    " - Use clustering approaches to choose neighbors"
   ]
  },
  {
   "cell_type": "markdown",
   "metadata": {},
   "source": [
    "## Item-Item Collaborative Filtering\n",
    "---\n",
    "\n",
    "This technique is very similar to the user-user collaborative technique, but instead of finding similarities between users it focuses on the similarity score between items. This approach is effective when the number of users is more than the items being recommended.\n",
    "\n",
    "![IICollabPic.png](assets/IICollabPic.png) \n",
    "\n",
    "With the above example in mind, this approach would find the similarity between each movie pair and based on that, it will recommend similar movies which are liked by the users in the past. This algorithm works similar to user-user collaborative filtering with just a slight modification — instead of utilizing the weighted sum of ratings of “user-neighbors”, it utilizes the weighted sum of ratings of “item-neighbors”. \n",
    "\n",
    "The prediction is given by:\n",
    "![IIPredict.png](assets/IIPredict.png) \n",
    "\n",
    "To get the similarity of items we would use this equation:\n",
    "![IISimil.png](assets/IISimil.png) \n",
    "\n",
    "Now, with the similarity between each movie and their ratings, predictions can made and based on those metrics, and similar movies can be recommended. \n",
    "\n",
    "### An Example\n",
    "![IIMatrix.png](assets/IIMatrix.png) \n",
    "\n",
    "Here the mean item rating is the average of all the ratings given to a particular item. Instead of finding the user-user similarity, we will work to find the item-item similarity.\n",
    "\n",
    "To do this, we would first find users who have rated our items of interest, and based on those ratings, the similarity between the items would be calculated. To find the similarity between movies (x1, x4) and (x1, x5). we would look at the common users who have rated movies x1 and x4, as well as the common users who have rated movies x1 and x5. These are users A and B.\n",
    "\n",
    "![IIMath.png](assets/IIMath.png) \n",
    "\n",
    "The similarity between movie x1 and x4 is higher than the similarity between movie x1 and x5. Based on these similarity values, if a user searches for movie x1, they will be recommended movie x4 and vice versa. \n",
    "\n",
    "### Question: What happens with new items or new users? \n",
    "\n",
    "Before going further and implementing these concepts, there is a question which we must know the answer to — what will happen if a new user or a new item is added in the dataset? This is called a **Cold Start**. \n",
    "\n",
    "There are two main types of cold start:\n",
    "\n",
    "#### Visitor Cold Start\n",
    "Visitor Cold Start refers to the situation when a new user is introduced in the dataset. Since there is no history of that user, the system does not know the preferences of that user, and it becomes harder to recommend products to that user. \n",
    "\n",
    "One basic approach to resolve this challenge is to apply a popularity based strategy, where the most popular products would be recommended. These can be determined by what has been popular recently, overall, or even regionally. Once we know the preferences of that user, recommending products will become more feasible.\n",
    "\n",
    "\n",
    "#### Product Cold Start\n",
    "Product Cold Start refers to the situation when a new product is launched on the market or added to the system. \n",
    "\n",
    "User action is most important to determine the value of any product. The more interaction a product receives, the easier it is for the model to recommend that product to the right user. \n",
    "\n",
    "We can make use of Content-based filtering to resolve this problem. The system would first use the content of the new product for recommendations and then eventually the user actions on that product. But, to be clear, there would be some wait in order to get the intial user interaction data. "
   ]
  },
  {
   "cell_type": "markdown",
   "metadata": {},
   "source": [
    "## Hybrid Recommendation Systems\n",
    "---\n",
    "\n",
    "A hybrid recommendation system is a combination of collaborative and content-based recommendations. This system can be implemented by making content-based and collaborative-based predictions separately and then combining them and vice-versa.\n",
    "\n",
    "![HybridPic.png](assets/HybridPic.png) \n"
   ]
  },
  {
   "cell_type": "markdown",
   "metadata": {},
   "source": [
    "## Creating A Recommendation System\n",
    "---\n",
    "\n",
    "The data for this applied example comes from the MovieLens dataset and we will work to build a model that recommends movies to the end users. This model to recommend movies will be based on user-user similarity and item-item similarity.\n",
    "\n",
    "The data has been collected by the **GroupLens Research Project at the University of Minnesota**. The dataset can be downloaded from https://grouplens.org/datasets/movielens/100k/. \n",
    "\n",
    "This dataset consists of:\n",
    " - 100,000 ratings (1–5) from 943 users on 1682 movies\n",
    " - Demographic information of the users (age, gender, occupation, etc.)"
   ]
  },
  {
   "cell_type": "markdown",
   "metadata": {},
   "source": [
    "#### Importing Libraries"
   ]
  },
  {
   "cell_type": "code",
   "execution_count": 1,
   "metadata": {},
   "outputs": [],
   "source": [
    "import pandas as pd\n",
    "import matplotlib\n",
    "import matplotlib.pyplot as plt\n",
    "import numpy as np"
   ]
  },
  {
   "cell_type": "markdown",
   "metadata": {},
   "source": [
    "#### Loading in Data"
   ]
  },
  {
   "cell_type": "code",
   "execution_count": 2,
   "metadata": {},
   "outputs": [],
   "source": [
    "# Reading users file:\n",
    "u_cols = ['user_id', 'age', 'sex', 'occupation', 'zip_code']\n",
    "users = pd.read_csv('ml-100k/u.user', sep='|', names=u_cols, encoding='latin-1')\n",
    "\n",
    "# Reading ratings file:\n",
    "r_cols = ['user_id', 'movie_id', 'rating', 'unix_timestamp']\n",
    "ratings = pd.read_csv('ml-100k/u.data', sep='\\t', names=r_cols, encoding='latin-1')\n",
    "\n",
    "# Reading items file:\n",
    "i_cols = ['movie id', 'movie title' ,'release date','video release date', 'IMDb URL', 'unknown', 'Action', 'Adventure',\n",
    "'Animation', 'Children\\'s', 'Comedy', 'Crime', 'Documentary', 'Drama', 'Fantasy', 'Film-Noir', 'Horror', 'Musical', 'Mystery', 'Romance', 'Sci-Fi', 'Thriller', 'War', 'Western']\n",
    "\n",
    "items = pd.read_csv('ml-100k/u.item', sep='|', names=i_cols, encoding='latin-1')"
   ]
  },
  {
   "cell_type": "markdown",
   "metadata": {},
   "source": [
    "#### Exploring Each Dataset"
   ]
  },
  {
   "cell_type": "code",
   "execution_count": 3,
   "metadata": {},
   "outputs": [
    {
     "data": {
      "text/html": [
       "<div>\n",
       "<style scoped>\n",
       "    .dataframe tbody tr th:only-of-type {\n",
       "        vertical-align: middle;\n",
       "    }\n",
       "\n",
       "    .dataframe tbody tr th {\n",
       "        vertical-align: top;\n",
       "    }\n",
       "\n",
       "    .dataframe thead th {\n",
       "        text-align: right;\n",
       "    }\n",
       "</style>\n",
       "<table border=\"1\" class=\"dataframe\">\n",
       "  <thead>\n",
       "    <tr style=\"text-align: right;\">\n",
       "      <th></th>\n",
       "      <th>user_id</th>\n",
       "      <th>age</th>\n",
       "      <th>sex</th>\n",
       "      <th>occupation</th>\n",
       "      <th>zip_code</th>\n",
       "    </tr>\n",
       "  </thead>\n",
       "  <tbody>\n",
       "    <tr>\n",
       "      <th>0</th>\n",
       "      <td>1</td>\n",
       "      <td>24</td>\n",
       "      <td>M</td>\n",
       "      <td>technician</td>\n",
       "      <td>85711</td>\n",
       "    </tr>\n",
       "    <tr>\n",
       "      <th>1</th>\n",
       "      <td>2</td>\n",
       "      <td>53</td>\n",
       "      <td>F</td>\n",
       "      <td>other</td>\n",
       "      <td>94043</td>\n",
       "    </tr>\n",
       "    <tr>\n",
       "      <th>2</th>\n",
       "      <td>3</td>\n",
       "      <td>23</td>\n",
       "      <td>M</td>\n",
       "      <td>writer</td>\n",
       "      <td>32067</td>\n",
       "    </tr>\n",
       "  </tbody>\n",
       "</table>\n",
       "</div>"
      ],
      "text/plain": [
       "   user_id  age sex  occupation zip_code\n",
       "0        1   24   M  technician    85711\n",
       "1        2   53   F       other    94043\n",
       "2        3   23   M      writer    32067"
      ]
     },
     "execution_count": 3,
     "metadata": {},
     "output_type": "execute_result"
    }
   ],
   "source": [
    "users.head(3)"
   ]
  },
  {
   "cell_type": "code",
   "execution_count": 4,
   "metadata": {},
   "outputs": [
    {
     "data": {
      "text/html": [
       "<div>\n",
       "<style scoped>\n",
       "    .dataframe tbody tr th:only-of-type {\n",
       "        vertical-align: middle;\n",
       "    }\n",
       "\n",
       "    .dataframe tbody tr th {\n",
       "        vertical-align: top;\n",
       "    }\n",
       "\n",
       "    .dataframe thead th {\n",
       "        text-align: right;\n",
       "    }\n",
       "</style>\n",
       "<table border=\"1\" class=\"dataframe\">\n",
       "  <thead>\n",
       "    <tr style=\"text-align: right;\">\n",
       "      <th></th>\n",
       "      <th>user_id</th>\n",
       "      <th>movie_id</th>\n",
       "      <th>rating</th>\n",
       "      <th>unix_timestamp</th>\n",
       "    </tr>\n",
       "  </thead>\n",
       "  <tbody>\n",
       "    <tr>\n",
       "      <th>0</th>\n",
       "      <td>196</td>\n",
       "      <td>242</td>\n",
       "      <td>3</td>\n",
       "      <td>881250949</td>\n",
       "    </tr>\n",
       "    <tr>\n",
       "      <th>1</th>\n",
       "      <td>186</td>\n",
       "      <td>302</td>\n",
       "      <td>3</td>\n",
       "      <td>891717742</td>\n",
       "    </tr>\n",
       "    <tr>\n",
       "      <th>2</th>\n",
       "      <td>22</td>\n",
       "      <td>377</td>\n",
       "      <td>1</td>\n",
       "      <td>878887116</td>\n",
       "    </tr>\n",
       "  </tbody>\n",
       "</table>\n",
       "</div>"
      ],
      "text/plain": [
       "   user_id  movie_id  rating  unix_timestamp\n",
       "0      196       242       3       881250949\n",
       "1      186       302       3       891717742\n",
       "2       22       377       1       878887116"
      ]
     },
     "execution_count": 4,
     "metadata": {},
     "output_type": "execute_result"
    }
   ],
   "source": [
    "ratings.head(3)"
   ]
  },
  {
   "cell_type": "code",
   "execution_count": 5,
   "metadata": {},
   "outputs": [
    {
     "data": {
      "text/html": [
       "<div>\n",
       "<style scoped>\n",
       "    .dataframe tbody tr th:only-of-type {\n",
       "        vertical-align: middle;\n",
       "    }\n",
       "\n",
       "    .dataframe tbody tr th {\n",
       "        vertical-align: top;\n",
       "    }\n",
       "\n",
       "    .dataframe thead th {\n",
       "        text-align: right;\n",
       "    }\n",
       "</style>\n",
       "<table border=\"1\" class=\"dataframe\">\n",
       "  <thead>\n",
       "    <tr style=\"text-align: right;\">\n",
       "      <th></th>\n",
       "      <th>movie id</th>\n",
       "      <th>movie title</th>\n",
       "      <th>release date</th>\n",
       "      <th>video release date</th>\n",
       "      <th>IMDb URL</th>\n",
       "      <th>unknown</th>\n",
       "      <th>Action</th>\n",
       "      <th>Adventure</th>\n",
       "      <th>Animation</th>\n",
       "      <th>Children's</th>\n",
       "      <th>...</th>\n",
       "      <th>Fantasy</th>\n",
       "      <th>Film-Noir</th>\n",
       "      <th>Horror</th>\n",
       "      <th>Musical</th>\n",
       "      <th>Mystery</th>\n",
       "      <th>Romance</th>\n",
       "      <th>Sci-Fi</th>\n",
       "      <th>Thriller</th>\n",
       "      <th>War</th>\n",
       "      <th>Western</th>\n",
       "    </tr>\n",
       "  </thead>\n",
       "  <tbody>\n",
       "    <tr>\n",
       "      <th>0</th>\n",
       "      <td>1</td>\n",
       "      <td>Toy Story (1995)</td>\n",
       "      <td>01-Jan-1995</td>\n",
       "      <td>NaN</td>\n",
       "      <td>http://us.imdb.com/M/title-exact?Toy%20Story%2...</td>\n",
       "      <td>0</td>\n",
       "      <td>0</td>\n",
       "      <td>0</td>\n",
       "      <td>1</td>\n",
       "      <td>1</td>\n",
       "      <td>...</td>\n",
       "      <td>0</td>\n",
       "      <td>0</td>\n",
       "      <td>0</td>\n",
       "      <td>0</td>\n",
       "      <td>0</td>\n",
       "      <td>0</td>\n",
       "      <td>0</td>\n",
       "      <td>0</td>\n",
       "      <td>0</td>\n",
       "      <td>0</td>\n",
       "    </tr>\n",
       "    <tr>\n",
       "      <th>1</th>\n",
       "      <td>2</td>\n",
       "      <td>GoldenEye (1995)</td>\n",
       "      <td>01-Jan-1995</td>\n",
       "      <td>NaN</td>\n",
       "      <td>http://us.imdb.com/M/title-exact?GoldenEye%20(...</td>\n",
       "      <td>0</td>\n",
       "      <td>1</td>\n",
       "      <td>1</td>\n",
       "      <td>0</td>\n",
       "      <td>0</td>\n",
       "      <td>...</td>\n",
       "      <td>0</td>\n",
       "      <td>0</td>\n",
       "      <td>0</td>\n",
       "      <td>0</td>\n",
       "      <td>0</td>\n",
       "      <td>0</td>\n",
       "      <td>0</td>\n",
       "      <td>1</td>\n",
       "      <td>0</td>\n",
       "      <td>0</td>\n",
       "    </tr>\n",
       "    <tr>\n",
       "      <th>2</th>\n",
       "      <td>3</td>\n",
       "      <td>Four Rooms (1995)</td>\n",
       "      <td>01-Jan-1995</td>\n",
       "      <td>NaN</td>\n",
       "      <td>http://us.imdb.com/M/title-exact?Four%20Rooms%...</td>\n",
       "      <td>0</td>\n",
       "      <td>0</td>\n",
       "      <td>0</td>\n",
       "      <td>0</td>\n",
       "      <td>0</td>\n",
       "      <td>...</td>\n",
       "      <td>0</td>\n",
       "      <td>0</td>\n",
       "      <td>0</td>\n",
       "      <td>0</td>\n",
       "      <td>0</td>\n",
       "      <td>0</td>\n",
       "      <td>0</td>\n",
       "      <td>1</td>\n",
       "      <td>0</td>\n",
       "      <td>0</td>\n",
       "    </tr>\n",
       "  </tbody>\n",
       "</table>\n",
       "<p>3 rows × 24 columns</p>\n",
       "</div>"
      ],
      "text/plain": [
       "   movie id        movie title release date  video release date  \\\n",
       "0         1   Toy Story (1995)  01-Jan-1995                 NaN   \n",
       "1         2   GoldenEye (1995)  01-Jan-1995                 NaN   \n",
       "2         3  Four Rooms (1995)  01-Jan-1995                 NaN   \n",
       "\n",
       "                                            IMDb URL  unknown  Action  \\\n",
       "0  http://us.imdb.com/M/title-exact?Toy%20Story%2...        0       0   \n",
       "1  http://us.imdb.com/M/title-exact?GoldenEye%20(...        0       1   \n",
       "2  http://us.imdb.com/M/title-exact?Four%20Rooms%...        0       0   \n",
       "\n",
       "   Adventure  Animation  Children's  ...  Fantasy  Film-Noir  Horror  Musical  \\\n",
       "0          0          1           1  ...        0          0       0        0   \n",
       "1          1          0           0  ...        0          0       0        0   \n",
       "2          0          0           0  ...        0          0       0        0   \n",
       "\n",
       "   Mystery  Romance  Sci-Fi  Thriller  War  Western  \n",
       "0        0        0       0         0    0        0  \n",
       "1        0        0       0         1    0        0  \n",
       "2        0        0       0         1    0        0  \n",
       "\n",
       "[3 rows x 24 columns]"
      ]
     },
     "execution_count": 5,
     "metadata": {},
     "output_type": "execute_result"
    }
   ],
   "source": [
    "items.head(3)"
   ]
  },
  {
   "cell_type": "markdown",
   "metadata": {},
   "source": [
    "#### Getting Train and Test Datasets\n",
    "\n",
    "The dataset has already been divided into train and test sets by GroupLens. The test data has 10 ratings for each user with 9,430 rows in total. We can just import these files into our Python environment, but if we didnt there are a number of ways to split data into train and test sets in python. "
   ]
  },
  {
   "cell_type": "code",
   "execution_count": 6,
   "metadata": {},
   "outputs": [
    {
     "data": {
      "text/plain": [
       "((90570, 4), (9430, 4))"
      ]
     },
     "execution_count": 6,
     "metadata": {},
     "output_type": "execute_result"
    }
   ],
   "source": [
    "r_cols = ['user_id', 'movie_id', 'rating', 'unix_timestamp']\n",
    "\n",
    "ratings_train = pd.read_csv('ml-100k/ua.base', sep='\\t', names=r_cols, encoding='latin-1')\n",
    "\n",
    "ratings_test = pd.read_csv('ml-100k/ua.test', sep='\\t', names=r_cols, encoding='latin-1')\n",
    "\n",
    "ratings_train.shape, ratings_test.shape"
   ]
  },
  {
   "cell_type": "markdown",
   "metadata": {},
   "source": [
    "#### Calculating Unique Users and Items"
   ]
  },
  {
   "cell_type": "code",
   "execution_count": 7,
   "metadata": {},
   "outputs": [],
   "source": [
    "n_users = ratings.user_id.unique().shape[0]\n",
    "n_items = ratings.movie_id.unique().shape[0]"
   ]
  },
  {
   "cell_type": "markdown",
   "metadata": {},
   "source": [
    "#### Creating User-Item Matrix\n",
    "Now, that we have the number of unique items, the next step will be to create a user-item matrix. This will be used to calculate the similarity between users and items. To do this, we will first initialize a matrix with a zeros array of shape 943 x 1643 having 943 users and 1643 movies. Then we will iteratively load the data into this matrix. \n",
    "\n",
    "Here,\n",
    "- line[1] is the userId \n",
    "    - we are subtracting 1 from it since array indexing starts from 0 = row\n",
    "- line[2]-1 is the movie id = column\n",
    "- now at that specifec row and column we will add line[3] which is the movie rating"
   ]
  },
  {
   "cell_type": "code",
   "execution_count": 8,
   "metadata": {},
   "outputs": [
    {
     "data": {
      "text/plain": [
       "array([[5., 3., 4., ..., 0., 0., 0.],\n",
       "       [4., 0., 0., ..., 0., 0., 0.],\n",
       "       [0., 0., 0., ..., 0., 0., 0.],\n",
       "       ...,\n",
       "       [5., 0., 0., ..., 0., 0., 0.],\n",
       "       [0., 0., 0., ..., 0., 0., 0.],\n",
       "       [0., 5., 0., ..., 0., 0., 0.]])"
      ]
     },
     "execution_count": 8,
     "metadata": {},
     "output_type": "execute_result"
    }
   ],
   "source": [
    "data_matrix = np.zeros((n_users, n_items))\n",
    "for line in ratings.itertuples():\n",
    "    data_matrix[line[1]-1, line[2]-1] = line[3]\n",
    "    \n",
    "data_matrix"
   ]
  },
  {
   "cell_type": "markdown",
   "metadata": {},
   "source": [
    "#### Calculating Similarity\n",
    "\n",
    "Now, when we have rating of all the movies given by each user in the matrix, we can now calculate the similarity. We will use the pairwise_distance function from sklearn to calculate the cosine similarity. This gives us the item-item and user-user similarity in an array form."
   ]
  },
  {
   "cell_type": "code",
   "execution_count": 9,
   "metadata": {},
   "outputs": [],
   "source": [
    "from sklearn.metrics.pairwise import pairwise_distances \n",
    "user_similarity = pairwise_distances(data_matrix, metric='cosine')\n",
    "item_similarity = pairwise_distances(data_matrix.T, metric='cosine')"
   ]
  },
  {
   "cell_type": "markdown",
   "metadata": {},
   "source": [
    "#### Making Predictions\n",
    "The next step is to make predictions based on these similarities. Let’s define a function to do just that."
   ]
  },
  {
   "cell_type": "code",
   "execution_count": 10,
   "metadata": {},
   "outputs": [],
   "source": [
    "def predict(ratings, similarity, type='user'):\n",
    "    \n",
    "    if type == 'user':\n",
    "        mean_user_rating = ratings.mean(axis=1).reshape(-1,1)\n",
    "        #We use np.newaxis so that mean_user_rating has same format as ratings\n",
    "        \n",
    "        ratings_diff = (ratings - mean_user_rating)\n",
    "        pred = mean_user_rating + similarity.dot(ratings_diff) / np.array([np.abs(similarity).sum(axis=1)]).T\n",
    "    \n",
    "    elif type == 'item':\n",
    "        pred = ratings.dot(similarity) / np.array([np.abs(similarity).sum(axis=1)])\n",
    "    \n",
    "    return pred"
   ]
  },
  {
   "cell_type": "markdown",
   "metadata": {},
   "source": [
    "#### Applying Predicition Function"
   ]
  },
  {
   "cell_type": "code",
   "execution_count": 11,
   "metadata": {},
   "outputs": [],
   "source": [
    "user_prediction = predict(data_matrix, user_similarity, type='user')\n",
    "item_prediction = predict(data_matrix, item_similarity, type='item')"
   ]
  },
  {
   "cell_type": "code",
   "execution_count": 12,
   "metadata": {},
   "outputs": [
    {
     "data": {
      "text/plain": [
       "array([[0.44627765, 0.475473  , 0.50593755, ..., 0.58815455, 0.5731069 ,\n",
       "        0.56669645],\n",
       "       [0.10854432, 0.13295661, 0.12558851, ..., 0.13445801, 0.13657587,\n",
       "        0.13711081],\n",
       "       [0.08568497, 0.09169006, 0.08764343, ..., 0.08465892, 0.08976784,\n",
       "        0.09084451],\n",
       "       ...,\n",
       "       [0.03230047, 0.0450241 , 0.04292449, ..., 0.05302764, 0.0519099 ,\n",
       "        0.05228033],\n",
       "       [0.15777917, 0.17409459, 0.18900003, ..., 0.19979296, 0.19739388,\n",
       "        0.20003117],\n",
       "       [0.24767207, 0.24489212, 0.28263031, ..., 0.34410424, 0.33051406,\n",
       "        0.33102478]])"
      ]
     },
     "execution_count": 12,
     "metadata": {},
     "output_type": "execute_result"
    }
   ],
   "source": [
    "item_prediction"
   ]
  },
  {
   "cell_type": "markdown",
   "metadata": {},
   "source": [
    "These predictions can then be used within some sort of application to give recommendations. "
   ]
  },
  {
   "cell_type": "markdown",
   "metadata": {},
   "source": [
    "## Second Example Using Text Similarity\n",
    "---"
   ]
  },
  {
   "cell_type": "markdown",
   "metadata": {},
   "source": [
    "#### Importing Libraries"
   ]
  },
  {
   "cell_type": "code",
   "execution_count": 13,
   "metadata": {},
   "outputs": [],
   "source": [
    "import matplotlib.pyplot as plt\n",
    "import seaborn as sns\n",
    "import pandas as pd\n",
    "import numpy as np\n",
    "import ast \n",
    "from scipy import stats\n",
    "from ast import literal_eval\n",
    "from sklearn.feature_extraction.text import TfidfVectorizer, CountVectorizer\n",
    "from sklearn.metrics.pairwise import linear_kernel,cosine_similarity"
   ]
  },
  {
   "cell_type": "markdown",
   "metadata": {},
   "source": [
    "#### Importing Data\n",
    "\n",
    "The data for this second example also comes from the MovieLens dataset, but is different than the one used above. This example follows the tutorial here (https://medium.com/swlh/beginners-guide-to-build-recommendation-system-2bd4a96aa3e), where there is a link to the data. "
   ]
  },
  {
   "cell_type": "code",
   "execution_count": 14,
   "metadata": {},
   "outputs": [
    {
     "name": "stderr",
     "output_type": "stream",
     "text": [
      "/opt/anaconda3/lib/python3.8/site-packages/IPython/core/interactiveshell.py:3146: DtypeWarning: Columns (10) have mixed types.Specify dtype option on import or set low_memory=False.\n",
      "  has_raised = await self.run_ast_nodes(code_ast.body, cell_name,\n"
     ]
    }
   ],
   "source": [
    "movies_df = pd.read_csv('movie_dataset/movies_metadata.csv')\n",
    "ratings = pd.read_csv('movie_dataset/ratings_small.csv')"
   ]
  },
  {
   "cell_type": "markdown",
   "metadata": {},
   "source": [
    "#### Dropping Unnecessary Columns"
   ]
  },
  {
   "cell_type": "code",
   "execution_count": 15,
   "metadata": {},
   "outputs": [
    {
     "data": {
      "text/html": [
       "<div>\n",
       "<style scoped>\n",
       "    .dataframe tbody tr th:only-of-type {\n",
       "        vertical-align: middle;\n",
       "    }\n",
       "\n",
       "    .dataframe tbody tr th {\n",
       "        vertical-align: top;\n",
       "    }\n",
       "\n",
       "    .dataframe thead th {\n",
       "        text-align: right;\n",
       "    }\n",
       "</style>\n",
       "<table border=\"1\" class=\"dataframe\">\n",
       "  <thead>\n",
       "    <tr style=\"text-align: right;\">\n",
       "      <th></th>\n",
       "      <th>adult</th>\n",
       "      <th>genres</th>\n",
       "      <th>id</th>\n",
       "      <th>imdb_id</th>\n",
       "      <th>original_title</th>\n",
       "      <th>overview</th>\n",
       "      <th>popularity</th>\n",
       "      <th>tagline</th>\n",
       "      <th>title</th>\n",
       "      <th>vote_average</th>\n",
       "      <th>vote_count</th>\n",
       "    </tr>\n",
       "  </thead>\n",
       "  <tbody>\n",
       "    <tr>\n",
       "      <th>0</th>\n",
       "      <td>False</td>\n",
       "      <td>[{'id': 16, 'name': 'Animation'}, {'id': 35, '...</td>\n",
       "      <td>862</td>\n",
       "      <td>tt0114709</td>\n",
       "      <td>Toy Story</td>\n",
       "      <td>Led by Woody, Andy's toys live happily in his ...</td>\n",
       "      <td>21.9469</td>\n",
       "      <td>NaN</td>\n",
       "      <td>Toy Story</td>\n",
       "      <td>7.7</td>\n",
       "      <td>5415.0</td>\n",
       "    </tr>\n",
       "    <tr>\n",
       "      <th>1</th>\n",
       "      <td>False</td>\n",
       "      <td>[{'id': 12, 'name': 'Adventure'}, {'id': 14, '...</td>\n",
       "      <td>8844</td>\n",
       "      <td>tt0113497</td>\n",
       "      <td>Jumanji</td>\n",
       "      <td>When siblings Judy and Peter discover an encha...</td>\n",
       "      <td>17.0155</td>\n",
       "      <td>Roll the dice and unleash the excitement!</td>\n",
       "      <td>Jumanji</td>\n",
       "      <td>6.9</td>\n",
       "      <td>2413.0</td>\n",
       "    </tr>\n",
       "    <tr>\n",
       "      <th>2</th>\n",
       "      <td>False</td>\n",
       "      <td>[{'id': 10749, 'name': 'Romance'}, {'id': 35, ...</td>\n",
       "      <td>15602</td>\n",
       "      <td>tt0113228</td>\n",
       "      <td>Grumpier Old Men</td>\n",
       "      <td>A family wedding reignites the ancient feud be...</td>\n",
       "      <td>11.7129</td>\n",
       "      <td>Still Yelling. Still Fighting. Still Ready for...</td>\n",
       "      <td>Grumpier Old Men</td>\n",
       "      <td>6.5</td>\n",
       "      <td>92.0</td>\n",
       "    </tr>\n",
       "    <tr>\n",
       "      <th>3</th>\n",
       "      <td>False</td>\n",
       "      <td>[{'id': 35, 'name': 'Comedy'}, {'id': 18, 'nam...</td>\n",
       "      <td>31357</td>\n",
       "      <td>tt0114885</td>\n",
       "      <td>Waiting to Exhale</td>\n",
       "      <td>Cheated on, mistreated and stepped on, the wom...</td>\n",
       "      <td>3.85949</td>\n",
       "      <td>Friends are the people who let you be yourself...</td>\n",
       "      <td>Waiting to Exhale</td>\n",
       "      <td>6.1</td>\n",
       "      <td>34.0</td>\n",
       "    </tr>\n",
       "    <tr>\n",
       "      <th>4</th>\n",
       "      <td>False</td>\n",
       "      <td>[{'id': 35, 'name': 'Comedy'}]</td>\n",
       "      <td>11862</td>\n",
       "      <td>tt0113041</td>\n",
       "      <td>Father of the Bride Part II</td>\n",
       "      <td>Just when George Banks has recovered from his ...</td>\n",
       "      <td>8.38752</td>\n",
       "      <td>Just When His World Is Back To Normal... He's ...</td>\n",
       "      <td>Father of the Bride Part II</td>\n",
       "      <td>5.7</td>\n",
       "      <td>173.0</td>\n",
       "    </tr>\n",
       "  </tbody>\n",
       "</table>\n",
       "</div>"
      ],
      "text/plain": [
       "   adult                                             genres     id    imdb_id  \\\n",
       "0  False  [{'id': 16, 'name': 'Animation'}, {'id': 35, '...    862  tt0114709   \n",
       "1  False  [{'id': 12, 'name': 'Adventure'}, {'id': 14, '...   8844  tt0113497   \n",
       "2  False  [{'id': 10749, 'name': 'Romance'}, {'id': 35, ...  15602  tt0113228   \n",
       "3  False  [{'id': 35, 'name': 'Comedy'}, {'id': 18, 'nam...  31357  tt0114885   \n",
       "4  False                     [{'id': 35, 'name': 'Comedy'}]  11862  tt0113041   \n",
       "\n",
       "                original_title  \\\n",
       "0                    Toy Story   \n",
       "1                      Jumanji   \n",
       "2             Grumpier Old Men   \n",
       "3            Waiting to Exhale   \n",
       "4  Father of the Bride Part II   \n",
       "\n",
       "                                            overview popularity  \\\n",
       "0  Led by Woody, Andy's toys live happily in his ...    21.9469   \n",
       "1  When siblings Judy and Peter discover an encha...    17.0155   \n",
       "2  A family wedding reignites the ancient feud be...    11.7129   \n",
       "3  Cheated on, mistreated and stepped on, the wom...    3.85949   \n",
       "4  Just when George Banks has recovered from his ...    8.38752   \n",
       "\n",
       "                                             tagline  \\\n",
       "0                                                NaN   \n",
       "1          Roll the dice and unleash the excitement!   \n",
       "2  Still Yelling. Still Fighting. Still Ready for...   \n",
       "3  Friends are the people who let you be yourself...   \n",
       "4  Just When His World Is Back To Normal... He's ...   \n",
       "\n",
       "                         title  vote_average  vote_count  \n",
       "0                    Toy Story           7.7      5415.0  \n",
       "1                      Jumanji           6.9      2413.0  \n",
       "2             Grumpier Old Men           6.5        92.0  \n",
       "3            Waiting to Exhale           6.1        34.0  \n",
       "4  Father of the Bride Part II           5.7       173.0  "
      ]
     },
     "execution_count": 15,
     "metadata": {},
     "output_type": "execute_result"
    }
   ],
   "source": [
    "movies_df = movies_df.drop(['belongs_to_collection', 'budget', 'homepage', \n",
    "                            'original_language', 'release_date', 'revenue', \n",
    "                            'runtime', 'spoken_languages', 'status', 'video', \n",
    "                            'poster_path', 'production_companies', 'production_countries'], axis = 1)\n",
    "\n",
    "movies_df.head()"
   ]
  },
  {
   "cell_type": "markdown",
   "metadata": {},
   "source": [
    "#### Some Data Wrangling\n",
    "\n",
    "The ‘genres’ column in the data frame contains a dictionary with the keys 'id' and 'name'. We need to extract the 'name', as it is the movie genre, and separate the column with the 'name' values only."
   ]
  },
  {
   "cell_type": "code",
   "execution_count": 16,
   "metadata": {},
   "outputs": [
    {
     "data": {
      "text/plain": [
       "0     [Animation, Comedy, Family]\n",
       "1    [Adventure, Fantasy, Family]\n",
       "2               [Romance, Comedy]\n",
       "3        [Comedy, Drama, Romance]\n",
       "4                        [Comedy]\n",
       "Name: genres, dtype: object"
      ]
     },
     "execution_count": 16,
     "metadata": {},
     "output_type": "execute_result"
    }
   ],
   "source": [
    "movies_df['genres'] = (movies_df['genres']\n",
    "                       .fillna('[]')\n",
    "                       .apply(literal_eval)\n",
    "                       .apply(lambda x: [i['name'] for i in x] if isinstance(x, list) else []))\n",
    "\n",
    "movies_df['genres'].head()"
   ]
  },
  {
   "cell_type": "markdown",
   "metadata": {},
   "source": [
    "#### Creating TF-IDF Vector\n",
    "\n",
    "In order to create the recommendation engine, we have to create a vector for each and every movie within the matrix. We create this vector because this recommendation engine depends on pairwise similarity, which assesses the similarity of vectors. So, in order to identify the similarities, we need to created the vectors for each movie.\n",
    "\n",
    "Since the overview column in the dataset is string data, we need to use a TF-IDF vectorizer to create a document matrix from these sentences."
   ]
  },
  {
   "cell_type": "code",
   "execution_count": 17,
   "metadata": {},
   "outputs": [],
   "source": [
    "from sklearn.feature_extraction.text import TfidfVectorizer\n",
    "\n",
    "tfv = TfidfVectorizer(min_df=3, max_features=None, strip_accents='unicode', analyzer='word',token_pattern=r'\\w{1,}',\n",
    "            ngram_range=(1, 3), stop_words = 'english')\n",
    "\n",
    "movies_df['overview'] = movies_df['overview'].fillna('')\n",
    "\n",
    "tfv_matrix = tfv.fit_transform(movies_df['overview'])"
   ]
  },
  {
   "cell_type": "markdown",
   "metadata": {},
   "source": [
    "#### Finding Cosine Similarity\n",
    "\n",
    "This may take a moment to run... "
   ]
  },
  {
   "cell_type": "code",
   "execution_count": 18,
   "metadata": {},
   "outputs": [
    {
     "data": {
      "text/plain": [
       "title\n",
       "Toy Story                          0\n",
       "Jumanji                            1\n",
       "Grumpier Old Men                   2\n",
       "Waiting to Exhale                  3\n",
       "Father of the Bride Part II        4\n",
       "Heat                               5\n",
       "Sabrina                            6\n",
       "Tom and Huck                       7\n",
       "Sudden Death                       8\n",
       "GoldenEye                          9\n",
       "The American President            10\n",
       "Dracula: Dead and Loving It       11\n",
       "Balto                             12\n",
       "Nixon                             13\n",
       "Cutthroat Island                  14\n",
       "Casino                            15\n",
       "Sense and Sensibility             16\n",
       "Four Rooms                        17\n",
       "Ace Ventura: When Nature Calls    18\n",
       "Money Train                       19\n",
       "dtype: int64"
      ]
     },
     "execution_count": 18,
     "metadata": {},
     "output_type": "execute_result"
    }
   ],
   "source": [
    "cos_sim = linear_kernel(tfv_matrix, tfv_matrix)\n",
    "\n",
    "movies_df = movies_df.reset_index()\n",
    "\n",
    "indices = pd.Series(movies_df.index, index=movies_df['title'])\n",
    "\n",
    "indices.head(20)\n"
   ]
  },
  {
   "cell_type": "markdown",
   "metadata": {},
   "source": [
    "#### Writing Finction to Recommend Movies"
   ]
  },
  {
   "cell_type": "code",
   "execution_count": 19,
   "metadata": {},
   "outputs": [],
   "source": [
    "def sugg_recm(title):\n",
    "    \n",
    "    # Getting the index corresponding to the original_title\n",
    "    idx = indices[title]    \n",
    "    \n",
    "    # Get the pairwsie similarity scores \n",
    "    sim_scores = list(enumerate(cos_sim[idx]))\n",
    "    \n",
    "    # Sorting the movies \n",
    "    sim_scores = sorted(sim_scores, key=lambda x: x[1],reverse=True)\n",
    "    \n",
    "    sim_scores = sim_scores[1:11]\n",
    "    movie_indices = [i[0] for i in sim_scores]\n",
    "    \n",
    "    return indices.iloc[movie_indices]"
   ]
  },
  {
   "cell_type": "markdown",
   "metadata": {},
   "source": [
    "#### Applying the Function"
   ]
  },
  {
   "cell_type": "code",
   "execution_count": 20,
   "metadata": {},
   "outputs": [
    {
     "data": {
      "text/plain": [
       "title\n",
       "The Empire Strikes Back                        1154\n",
       "Star Wars: The Force Awakens                  26555\n",
       "The Star Wars Holiday Special                 30434\n",
       "Return of the Jedi                             1167\n",
       "Samson and the Seven Miracles of the World    34153\n",
       "The Interrogation                             16264\n",
       "The Thief of Bagdad                            7149\n",
       "Threads of Destiny                            22939\n",
       "Where Eagles Dare                              6659\n",
       "West Of Shanghai                              34855\n",
       "dtype: int64"
      ]
     },
     "execution_count": 20,
     "metadata": {},
     "output_type": "execute_result"
    }
   ],
   "source": [
    "sugg_recm('Star Wars').head(10)"
   ]
  },
  {
   "cell_type": "code",
   "execution_count": 21,
   "metadata": {},
   "outputs": [
    {
     "data": {
      "text/plain": [
       "title\n",
       "Secret of the Incas                          40234\n",
       "Raiders of the Lost Ark                       1156\n",
       "The Saint                                    45145\n",
       "Allan Quatermain and the Temple of Skulls    12647\n",
       "Treasure of the Four Crowns                  25052\n",
       "Beginning of the End                          6164\n",
       "The Rocketeer                                 1985\n",
       "Queen of the Amazons                         18469\n",
       "Armour of God                                 2764\n",
       "The Condemned of Altona                      35498\n",
       "dtype: int64"
      ]
     },
     "execution_count": 21,
     "metadata": {},
     "output_type": "execute_result"
    }
   ],
   "source": [
    "sugg_recm('Indiana Jones and the Temple of Doom').head(10)"
   ]
  },
  {
   "cell_type": "markdown",
   "metadata": {},
   "source": [
    "## Conclusion\n",
    "\n",
    "Overall, this workshop has introduced you to some common approaches to bulding a recommendation system in Python. There are many other ways to build a recommendation system including K-Nearest Neieghbors, Clusteirng Algorithms, and even Classification approaches. There is so much more to learn here, but the hope is that this case will introduce you to some major concepts, and give you some code to start your journey. "
   ]
  },
  {
   "cell_type": "markdown",
   "metadata": {},
   "source": [
    "## References\n",
    "\n",
    "- Recommendation Systems from Scratch in Python - https://medium.com/@lope.ai/recommendation-systems-from-scratch-in-python-pytholabs-6946491e76c2\n",
    "- Beginner’s guide to build Recommendation Engine in Python - https://medium.com/swlh/beginners-guide-to-build-recommendation-system-2bd4a96aa3e\n",
    "- Machine Learning for Building Recommender System in Python - https://towardsdatascience.com/machine-learning-for-building-recommender-system-in-python-9e4922dd7e97\n",
    "- Creating a Movie Recommendation System using Python - https://blog.jovian.ai/creating-a-movie-recommendation-system-using-python-5ba88a7eb6df"
   ]
  },
  {
   "cell_type": "code",
   "execution_count": null,
   "metadata": {},
   "outputs": [],
   "source": []
  }
 ],
 "metadata": {
  "kernelspec": {
   "display_name": "Python 3",
   "language": "python",
   "name": "python3"
  },
  "language_info": {
   "codemirror_mode": {
    "name": "ipython",
    "version": 3
   },
   "file_extension": ".py",
   "mimetype": "text/x-python",
   "name": "python",
   "nbconvert_exporter": "python",
   "pygments_lexer": "ipython3",
   "version": "3.8.5"
  }
 },
 "nbformat": 4,
 "nbformat_minor": 4
}

{
  "nbformat": 4,
  "nbformat_minor": 0,
  "metadata": {
    "colab": {
      "name": "Workshop 6: Intro to Personal Health Informatics",
      "provenance": [],
      "collapsed_sections": []
    },
    "kernelspec": {
      "name": "python3",
      "display_name": "Python 3"
    },
    "language_info": {
      "name": "python"
    }
  },
  "cells": [
    {
      "cell_type": "markdown",
      "metadata": {
        "id": "ITaO74Ge4T9a"
      },
      "source": [
        "#**Introduction To Personal Health Informatics**\n",
        "#### **Authors:** Sneha Jaikumar and Theodore Wang\n",
        "\n",
        "\n",
        "![](https://raw.githubusercontent.com/CarolinaDataScience/Workshops2021/main/Personal%20Health%20Informatics/personal-health-informatics-fb.png)\n",
        "\n",
        "\n"
      ]
    },
    {
      "cell_type": "markdown",
      "metadata": {
        "id": "fCTcezMhSp5d"
      },
      "source": [
        "###What is Personal Health Informatics?\n",
        "\n",
        "Personal Health Informatics combines human-computer interaction and pattern recognition with ideas from behavioral science and social psychology, with the end goal of increasing the usability of health technology, improving access to health services, and creating new user-interfaces to help individuals stay physically/emotionally healthy. \n",
        "\n",
        "\n",
        "###How is PHI Data Collected?\n",
        "\n",
        "A device (smartphone, fitbit, smartwatch) is used by the user to track an activity. Then, ubiquitous sensing and statistical pattern recognition is perfromed on the collected data. The resulting information can be used to develop preventative, interactive health tools.\n",
        "\n"
      ]
    },
    {
      "cell_type": "markdown",
      "metadata": {
        "id": "y51u_JFNMraw"
      },
      "source": [
        "#### **Step 1:** Import libraries"
      ]
    },
    {
      "cell_type": "code",
      "metadata": {
        "id": "GhxKu70m2v8T",
        "colab": {
          "base_uri": "https://localhost:8080/"
        },
        "outputId": "cef310ec-5b67-4b81-d3ef-5e1708a6ed9f"
      },
      "source": [
        "from google.colab import drive\n",
        "drive.mount('/content/drive')"
      ],
      "execution_count": 1,
      "outputs": [
        {
          "output_type": "stream",
          "name": "stdout",
          "text": [
            "Mounted at /content/drive\n"
          ]
        }
      ]
    },
    {
      "cell_type": "code",
      "metadata": {
        "id": "_y--N74UVad2",
        "colab": {
          "base_uri": "https://localhost:8080/"
        },
        "outputId": "aed79a5a-76ba-4adc-a606-a335d261f50a"
      },
      "source": [
        "from typing import List\n",
        "from csv import writer\n",
        "from datascience import *\n",
        "import pandas as pd\n",
        "import numpy as np\n",
        "%matplotlib inline"
      ],
      "execution_count": 2,
      "outputs": [
        {
          "output_type": "stream",
          "name": "stderr",
          "text": [
            "/usr/local/lib/python3.7/dist-packages/datascience/tables.py:17: MatplotlibDeprecationWarning: The 'warn' parameter of use() is deprecated since Matplotlib 3.1 and will be removed in 3.3.  If any parameter follows 'warn', they should be pass as keyword, not positionally.\n",
            "  matplotlib.use('agg', warn=False)\n",
            "/usr/local/lib/python3.7/dist-packages/datascience/util.py:10: MatplotlibDeprecationWarning: The 'warn' parameter of use() is deprecated since Matplotlib 3.1 and will be removed in 3.3.  If any parameter follows 'warn', they should be pass as keyword, not positionally.\n",
            "  matplotlib.use('agg', warn=False)\n"
          ]
        }
      ]
    },
    {
      "cell_type": "markdown",
      "metadata": {
        "id": "NqHnpahUNBUB"
      },
      "source": [
        "#### **Step 2:** Find an open source accelerometer dataset\n",
        "\n",
        "\n",
        "**Accelerometer Data**\n",
        "\n",
        "\n",
        "*   Raw data that records changes in motion relative to the device in three directions\n",
        "*   Consists of timestamped x,y,z values, commonly in a .txt file\n",
        "*   Can be fed into machine learning algorithms to help detect [physical activities](https://www.nytimes.com/interactive/projects/well/2014/03/accelerometers.html), sedentary behaviors, and sleep.\n",
        "\n",
        "*   Often requires training datasets that have annotated data (i.e., the raw data with the start/stop times of labels of behaviors)\n",
        "\n",
        "\n",
        "Generally, open source accelerometer datasets are stored in a txt file are messy. It is useful to convert them into a CSV file and format them to follow a template, especially when these datasets need to be run through an ML algorithm\n",
        "\n",
        "***Common elements to include:***\n",
        "\n",
        "* A header\n",
        "* Including additional commentary if a cell is either blank or information is not applicable"
      ]
    },
    {
      "cell_type": "markdown",
      "metadata": {
        "id": "kTFpK_RGDWqd"
      },
      "source": [
        "The dataset can be found here: [Drive](https://drive.google.com/file/d/1pR38hsgOJIOF-zkVz18xSiSnY4Rt8fAb/view?usp=sharing)."
      ]
    },
    {
      "cell_type": "markdown",
      "metadata": {
        "id": "VrCYlBQlPDZd"
      },
      "source": [
        "####**Step 3:** Start Cleaning"
      ]
    },
    {
      "cell_type": "code",
      "metadata": {
        "id": "rOik1TwQaGcj"
      },
      "source": [
        "#Headers for our dataset\n",
        "str_headers_list: List[str] = [\"HEADER_USER_ID\", \"HEADER_ACTIVITY\", \"HEADER_TIMSESTAMP\", \"HEADER_X-ACCELERATION\", \"HEADER_Y-ACCELERATION\", \"HEADER_Z-ACCELERATION\", \"HEADER_SENSOR_DESCRIPTION\",\"HEADER_PARTICIPANT_DESCRIPTION\", \"HEADER_SPECIAL_CONSIDERATIONS\"]\n",
        "\n",
        "#Creating a new csv file from our .txt dataset and appending our headers at the top\n",
        "df1 = pd.read_csv('/content/drive/MyDrive/2021-2022 CADS/Tech Chair Workshop Planning /Workshop 6: Personal Health Informatics/WISDM_ar_v1.1_raw.txt', error_bad_lines=False)\n",
        "cols = len(df1.axes[1])\n",
        "for index in range(cols,len(str_headers_list)):\n",
        "    df1[index] = \"\\\"\" + str_headers_list[index].lower() + \" is not provided\\\"\"\n",
        "df1.to_csv('Accelerometer_Sensor.CSV', header=str_headers_list, index= False)\n",
        "pd.read_csv('Accelerometer_Sensor.CSV')"
      ],
      "execution_count": null,
      "outputs": []
    },
    {
      "cell_type": "markdown",
      "metadata": {
        "id": "t0UwgYKIaclS"
      },
      "source": [
        "This dataset is over 1 million rows long! We'll be working with the first 150:"
      ]
    },
    {
      "cell_type": "code",
      "metadata": {
        "id": "0ELCy1k3Xh-0",
        "colab": {
          "base_uri": "https://localhost:8080/",
          "height": 626
        },
        "outputId": "9eef7340-c5ff-4d3e-d1af-1ac5f60e0d26"
      },
      "source": [
        "#Extract first 150 rows\n",
        "df_150 = pd.read_csv('Accelerometer_Sensor.CSV').head(150)\n",
        "df_150\n"
      ],
      "execution_count": 4,
      "outputs": [
        {
          "output_type": "execute_result",
          "data": {
            "text/html": [
              "<div>\n",
              "<style scoped>\n",
              "    .dataframe tbody tr th:only-of-type {\n",
              "        vertical-align: middle;\n",
              "    }\n",
              "\n",
              "    .dataframe tbody tr th {\n",
              "        vertical-align: top;\n",
              "    }\n",
              "\n",
              "    .dataframe thead th {\n",
              "        text-align: right;\n",
              "    }\n",
              "</style>\n",
              "<table border=\"1\" class=\"dataframe\">\n",
              "  <thead>\n",
              "    <tr style=\"text-align: right;\">\n",
              "      <th></th>\n",
              "      <th>HEADER_USER_ID</th>\n",
              "      <th>HEADER_ACTIVITY</th>\n",
              "      <th>HEADER_TIMSESTAMP</th>\n",
              "      <th>HEADER_X-ACCELERATION</th>\n",
              "      <th>HEADER_Y-ACCELERATION</th>\n",
              "      <th>HEADER_Z-ACCELERATION</th>\n",
              "      <th>HEADER_SENSOR_DESCRIPTION</th>\n",
              "      <th>HEADER_PARTICIPANT_DESCRIPTION</th>\n",
              "      <th>HEADER_SPECIAL_CONSIDERATIONS</th>\n",
              "    </tr>\n",
              "  </thead>\n",
              "  <tbody>\n",
              "    <tr>\n",
              "      <th>0</th>\n",
              "      <td>33</td>\n",
              "      <td>Jogging</td>\n",
              "      <td>49106062271000</td>\n",
              "      <td>5.012288</td>\n",
              "      <td>11.264028</td>\n",
              "      <td>0.95342433;</td>\n",
              "      <td>\"header_sensor_description is not provided\"</td>\n",
              "      <td>\"header_participant_description is not provided\"</td>\n",
              "      <td>\"header_special_considerations is not provided\"</td>\n",
              "    </tr>\n",
              "    <tr>\n",
              "      <th>1</th>\n",
              "      <td>33</td>\n",
              "      <td>Jogging</td>\n",
              "      <td>49106112167000</td>\n",
              "      <td>4.903325</td>\n",
              "      <td>10.882658</td>\n",
              "      <td>-0.08172209;</td>\n",
              "      <td>\"header_sensor_description is not provided\"</td>\n",
              "      <td>\"header_participant_description is not provided\"</td>\n",
              "      <td>\"header_special_considerations is not provided\"</td>\n",
              "    </tr>\n",
              "    <tr>\n",
              "      <th>2</th>\n",
              "      <td>33</td>\n",
              "      <td>Jogging</td>\n",
              "      <td>49106222305000</td>\n",
              "      <td>-0.612916</td>\n",
              "      <td>18.496431</td>\n",
              "      <td>3.0237172;</td>\n",
              "      <td>\"header_sensor_description is not provided\"</td>\n",
              "      <td>\"header_participant_description is not provided\"</td>\n",
              "      <td>\"header_special_considerations is not provided\"</td>\n",
              "    </tr>\n",
              "    <tr>\n",
              "      <th>3</th>\n",
              "      <td>33</td>\n",
              "      <td>Jogging</td>\n",
              "      <td>49106332290000</td>\n",
              "      <td>-1.184970</td>\n",
              "      <td>12.108489</td>\n",
              "      <td>7.205164;</td>\n",
              "      <td>\"header_sensor_description is not provided\"</td>\n",
              "      <td>\"header_participant_description is not provided\"</td>\n",
              "      <td>\"header_special_considerations is not provided\"</td>\n",
              "    </tr>\n",
              "    <tr>\n",
              "      <th>4</th>\n",
              "      <td>33</td>\n",
              "      <td>Jogging</td>\n",
              "      <td>49106442306000</td>\n",
              "      <td>1.375655</td>\n",
              "      <td>-2.492524</td>\n",
              "      <td>-6.510526;</td>\n",
              "      <td>\"header_sensor_description is not provided\"</td>\n",
              "      <td>\"header_participant_description is not provided\"</td>\n",
              "      <td>\"header_special_considerations is not provided\"</td>\n",
              "    </tr>\n",
              "    <tr>\n",
              "      <th>...</th>\n",
              "      <td>...</td>\n",
              "      <td>...</td>\n",
              "      <td>...</td>\n",
              "      <td>...</td>\n",
              "      <td>...</td>\n",
              "      <td>...</td>\n",
              "      <td>...</td>\n",
              "      <td>...</td>\n",
              "      <td>...</td>\n",
              "    </tr>\n",
              "    <tr>\n",
              "      <th>145</th>\n",
              "      <td>33</td>\n",
              "      <td>Jogging</td>\n",
              "      <td>49121462295000</td>\n",
              "      <td>-6.932757</td>\n",
              "      <td>13.334320</td>\n",
              "      <td>-6.3198414;</td>\n",
              "      <td>\"header_sensor_description is not provided\"</td>\n",
              "      <td>\"header_participant_description is not provided\"</td>\n",
              "      <td>\"header_special_considerations is not provided\"</td>\n",
              "    </tr>\n",
              "    <tr>\n",
              "      <th>146</th>\n",
              "      <td>33</td>\n",
              "      <td>Jogging</td>\n",
              "      <td>49121572311000</td>\n",
              "      <td>-4.140586</td>\n",
              "      <td>12.871228</td>\n",
              "      <td>-0.84446156;</td>\n",
              "      <td>\"header_sensor_description is not provided\"</td>\n",
              "      <td>\"header_participant_description is not provided\"</td>\n",
              "      <td>\"header_special_considerations is not provided\"</td>\n",
              "    </tr>\n",
              "    <tr>\n",
              "      <th>147</th>\n",
              "      <td>33</td>\n",
              "      <td>Jogging</td>\n",
              "      <td>49121682296000</td>\n",
              "      <td>3.023717</td>\n",
              "      <td>2.369940</td>\n",
              "      <td>2.0294318;</td>\n",
              "      <td>\"header_sensor_description is not provided\"</td>\n",
              "      <td>\"header_participant_description is not provided\"</td>\n",
              "      <td>\"header_special_considerations is not provided\"</td>\n",
              "    </tr>\n",
              "    <tr>\n",
              "      <th>148</th>\n",
              "      <td>33</td>\n",
              "      <td>Jogging</td>\n",
              "      <td>49121792312000</td>\n",
              "      <td>-1.988571</td>\n",
              "      <td>5.979332</td>\n",
              "      <td>0.040861044;</td>\n",
              "      <td>\"header_sensor_description is not provided\"</td>\n",
              "      <td>\"header_participant_description is not provided\"</td>\n",
              "      <td>\"header_special_considerations is not provided\"</td>\n",
              "    </tr>\n",
              "    <tr>\n",
              "      <th>149</th>\n",
              "      <td>33</td>\n",
              "      <td>Jogging</td>\n",
              "      <td>49121902297000</td>\n",
              "      <td>2.955615</td>\n",
              "      <td>19.572440</td>\n",
              "      <td>7.6273947;</td>\n",
              "      <td>\"header_sensor_description is not provided\"</td>\n",
              "      <td>\"header_participant_description is not provided\"</td>\n",
              "      <td>\"header_special_considerations is not provided\"</td>\n",
              "    </tr>\n",
              "  </tbody>\n",
              "</table>\n",
              "<p>150 rows × 9 columns</p>\n",
              "</div>"
            ],
            "text/plain": [
              "     HEADER_USER_ID  ...                    HEADER_SPECIAL_CONSIDERATIONS\n",
              "0                33  ...  \"header_special_considerations is not provided\"\n",
              "1                33  ...  \"header_special_considerations is not provided\"\n",
              "2                33  ...  \"header_special_considerations is not provided\"\n",
              "3                33  ...  \"header_special_considerations is not provided\"\n",
              "4                33  ...  \"header_special_considerations is not provided\"\n",
              "..              ...  ...                                              ...\n",
              "145              33  ...  \"header_special_considerations is not provided\"\n",
              "146              33  ...  \"header_special_considerations is not provided\"\n",
              "147              33  ...  \"header_special_considerations is not provided\"\n",
              "148              33  ...  \"header_special_considerations is not provided\"\n",
              "149              33  ...  \"header_special_considerations is not provided\"\n",
              "\n",
              "[150 rows x 9 columns]"
            ]
          },
          "metadata": {},
          "execution_count": 4
        }
      ]
    },
    {
      "cell_type": "markdown",
      "metadata": {
        "id": "PLrzknSYRPI5"
      },
      "source": [
        "#### **Step 4:** Prepare Data for Processing\n",
        "\n",
        "Some things we have to address...\n",
        "1. Everything is currently of type string, including the numbers\n",
        "2. Header_Z-Acceleration Format (';')"
      ]
    },
    {
      "cell_type": "code",
      "metadata": {
        "id": "9iOLWy1JpvW9",
        "colab": {
          "base_uri": "https://localhost:8080/",
          "height": 388
        },
        "outputId": "26bd6c25-ff6f-452f-c41c-cc0027047260"
      },
      "source": [
        "#Create a new table with properly formatted accelerations in the x, y, and z directions\n",
        "accelerometer_table = Table.read_table('Accelerometer_Sensor.CSV')\n",
        "x_axis_acc = make_array()\n",
        "y_axis_acc = make_array()\n",
        "z_axis_acc = make_array()\n",
        "for num in np.arange(150):\n",
        "  x_axis_acc = np.append(x_axis_acc, (float)(accelerometer_table.column(0).item(num).split(\",\")[3]))\n",
        "  y_axis_acc= np.append(y_axis_acc, (float)(accelerometer_table.column(0).item(num).split(\",\")[4]))\n",
        "  #Removes the ';'\n",
        "  z_axis_acc= np.append(z_axis_acc, (float)(accelerometer_table.column(0).item(num).split(\",\")[5].replace(';','')))\n",
        "axes = Table().with_columns('X-AXIS-ACCELERATION', x_axis_acc, 'Y-AXIS-ACCELERATION', y_axis_acc, 'Z-AXIS-ACCELERATION', z_axis_acc)\n",
        "axes\n"
      ],
      "execution_count": 5,
      "outputs": [
        {
          "output_type": "execute_result",
          "data": {
            "text/html": [
              "<table border=\"1\" class=\"dataframe\">\n",
              "    <thead>\n",
              "        <tr>\n",
              "            <th>X-AXIS-ACCELERATION</th> <th>Y-AXIS-ACCELERATION</th> <th>Z-AXIS-ACCELERATION</th>\n",
              "        </tr>\n",
              "    </thead>\n",
              "    <tbody>\n",
              "        <tr>\n",
              "            <td>5.01229            </td> <td>11.264             </td> <td>0.953424           </td>\n",
              "        </tr>\n",
              "        <tr>\n",
              "            <td>4.90332            </td> <td>10.8827            </td> <td>-0.0817221         </td>\n",
              "        </tr>\n",
              "        <tr>\n",
              "            <td>-0.612916          </td> <td>18.4964            </td> <td>3.02372            </td>\n",
              "        </tr>\n",
              "        <tr>\n",
              "            <td>-1.18497           </td> <td>12.1085            </td> <td>7.20516            </td>\n",
              "        </tr>\n",
              "        <tr>\n",
              "            <td>1.37566            </td> <td>-2.49252           </td> <td>-6.51053           </td>\n",
              "        </tr>\n",
              "        <tr>\n",
              "            <td>-0.612916          </td> <td>10.5694            </td> <td>5.70693            </td>\n",
              "        </tr>\n",
              "        <tr>\n",
              "            <td>-0.503953          </td> <td>13.9472            </td> <td>7.05534            </td>\n",
              "        </tr>\n",
              "        <tr>\n",
              "            <td>-8.43099           </td> <td>11.4139            </td> <td>5.13487            </td>\n",
              "        </tr>\n",
              "        <tr>\n",
              "            <td>0.953424           </td> <td>1.37566            </td> <td>1.64806            </td>\n",
              "        </tr>\n",
              "        <tr>\n",
              "            <td>-8.19945           </td> <td>19.5724            </td> <td>2.72407            </td>\n",
              "        </tr>\n",
              "    </tbody>\n",
              "</table>\n",
              "<p>... (140 rows omitted)</p>"
            ],
            "text/plain": [
              "X-AXIS-ACCELERATION | Y-AXIS-ACCELERATION | Z-AXIS-ACCELERATION\n",
              "5.01229             | 11.264              | 0.953424\n",
              "4.90332             | 10.8827             | -0.0817221\n",
              "-0.612916           | 18.4964             | 3.02372\n",
              "-1.18497            | 12.1085             | 7.20516\n",
              "1.37566             | -2.49252            | -6.51053\n",
              "-0.612916           | 10.5694             | 5.70693\n",
              "-0.503953           | 13.9472             | 7.05534\n",
              "-8.43099            | 11.4139             | 5.13487\n",
              "0.953424            | 1.37566             | 1.64806\n",
              "-8.19945            | 19.5724             | 2.72407\n",
              "... (140 rows omitted)"
            ]
          },
          "metadata": {},
          "execution_count": 5
        }
      ]
    },
    {
      "cell_type": "code",
      "metadata": {
        "id": "6m-vFSxUSNoy",
        "colab": {
          "base_uri": "https://localhost:8080/",
          "height": 626
        },
        "outputId": "6f470686-4217-480e-acc3-2e73bb898815"
      },
      "source": [
        "#Reformat our initial CSV file using the columns in our axes table\n",
        "df_150 = df_150.drop(df_150.columns[[3, 4, 5]], axis=1)\n",
        "df_150['X-AXIS-ACCELERATION'] = x_axis_acc\n",
        "df_150['Y-AXIS-ACCELERATION'] = y_axis_acc\n",
        "df_150['Z-AXIS-ACCELERATION'] = z_axis_acc\n",
        "df_150.to_csv('Cleaned_Accelerometer_Sensor.CSV')\n",
        "pd.read_csv('Cleaned_Accelerometer_Sensor.CSV')"
      ],
      "execution_count": 6,
      "outputs": [
        {
          "output_type": "execute_result",
          "data": {
            "text/html": [
              "<div>\n",
              "<style scoped>\n",
              "    .dataframe tbody tr th:only-of-type {\n",
              "        vertical-align: middle;\n",
              "    }\n",
              "\n",
              "    .dataframe tbody tr th {\n",
              "        vertical-align: top;\n",
              "    }\n",
              "\n",
              "    .dataframe thead th {\n",
              "        text-align: right;\n",
              "    }\n",
              "</style>\n",
              "<table border=\"1\" class=\"dataframe\">\n",
              "  <thead>\n",
              "    <tr style=\"text-align: right;\">\n",
              "      <th></th>\n",
              "      <th>Unnamed: 0</th>\n",
              "      <th>HEADER_USER_ID</th>\n",
              "      <th>HEADER_ACTIVITY</th>\n",
              "      <th>HEADER_TIMSESTAMP</th>\n",
              "      <th>HEADER_SENSOR_DESCRIPTION</th>\n",
              "      <th>HEADER_PARTICIPANT_DESCRIPTION</th>\n",
              "      <th>HEADER_SPECIAL_CONSIDERATIONS</th>\n",
              "      <th>X-AXIS-ACCELERATION</th>\n",
              "      <th>Y-AXIS-ACCELERATION</th>\n",
              "      <th>Z-AXIS-ACCELERATION</th>\n",
              "    </tr>\n",
              "  </thead>\n",
              "  <tbody>\n",
              "    <tr>\n",
              "      <th>0</th>\n",
              "      <td>0</td>\n",
              "      <td>33</td>\n",
              "      <td>Jogging</td>\n",
              "      <td>49106062271000</td>\n",
              "      <td>\"header_sensor_description is not provided\"</td>\n",
              "      <td>\"header_participant_description is not provided\"</td>\n",
              "      <td>\"header_special_considerations is not provided\"</td>\n",
              "      <td>5.012288</td>\n",
              "      <td>11.264028</td>\n",
              "      <td>0.953424</td>\n",
              "    </tr>\n",
              "    <tr>\n",
              "      <th>1</th>\n",
              "      <td>1</td>\n",
              "      <td>33</td>\n",
              "      <td>Jogging</td>\n",
              "      <td>49106112167000</td>\n",
              "      <td>\"header_sensor_description is not provided\"</td>\n",
              "      <td>\"header_participant_description is not provided\"</td>\n",
              "      <td>\"header_special_considerations is not provided\"</td>\n",
              "      <td>4.903325</td>\n",
              "      <td>10.882658</td>\n",
              "      <td>-0.081722</td>\n",
              "    </tr>\n",
              "    <tr>\n",
              "      <th>2</th>\n",
              "      <td>2</td>\n",
              "      <td>33</td>\n",
              "      <td>Jogging</td>\n",
              "      <td>49106222305000</td>\n",
              "      <td>\"header_sensor_description is not provided\"</td>\n",
              "      <td>\"header_participant_description is not provided\"</td>\n",
              "      <td>\"header_special_considerations is not provided\"</td>\n",
              "      <td>-0.612916</td>\n",
              "      <td>18.496431</td>\n",
              "      <td>3.023717</td>\n",
              "    </tr>\n",
              "    <tr>\n",
              "      <th>3</th>\n",
              "      <td>3</td>\n",
              "      <td>33</td>\n",
              "      <td>Jogging</td>\n",
              "      <td>49106332290000</td>\n",
              "      <td>\"header_sensor_description is not provided\"</td>\n",
              "      <td>\"header_participant_description is not provided\"</td>\n",
              "      <td>\"header_special_considerations is not provided\"</td>\n",
              "      <td>-1.184970</td>\n",
              "      <td>12.108489</td>\n",
              "      <td>7.205164</td>\n",
              "    </tr>\n",
              "    <tr>\n",
              "      <th>4</th>\n",
              "      <td>4</td>\n",
              "      <td>33</td>\n",
              "      <td>Jogging</td>\n",
              "      <td>49106442306000</td>\n",
              "      <td>\"header_sensor_description is not provided\"</td>\n",
              "      <td>\"header_participant_description is not provided\"</td>\n",
              "      <td>\"header_special_considerations is not provided\"</td>\n",
              "      <td>1.375655</td>\n",
              "      <td>-2.492524</td>\n",
              "      <td>-6.510526</td>\n",
              "    </tr>\n",
              "    <tr>\n",
              "      <th>...</th>\n",
              "      <td>...</td>\n",
              "      <td>...</td>\n",
              "      <td>...</td>\n",
              "      <td>...</td>\n",
              "      <td>...</td>\n",
              "      <td>...</td>\n",
              "      <td>...</td>\n",
              "      <td>...</td>\n",
              "      <td>...</td>\n",
              "      <td>...</td>\n",
              "    </tr>\n",
              "    <tr>\n",
              "      <th>145</th>\n",
              "      <td>145</td>\n",
              "      <td>33</td>\n",
              "      <td>Jogging</td>\n",
              "      <td>49121462295000</td>\n",
              "      <td>\"header_sensor_description is not provided\"</td>\n",
              "      <td>\"header_participant_description is not provided\"</td>\n",
              "      <td>\"header_special_considerations is not provided\"</td>\n",
              "      <td>-6.932757</td>\n",
              "      <td>13.334320</td>\n",
              "      <td>-6.319841</td>\n",
              "    </tr>\n",
              "    <tr>\n",
              "      <th>146</th>\n",
              "      <td>146</td>\n",
              "      <td>33</td>\n",
              "      <td>Jogging</td>\n",
              "      <td>49121572311000</td>\n",
              "      <td>\"header_sensor_description is not provided\"</td>\n",
              "      <td>\"header_participant_description is not provided\"</td>\n",
              "      <td>\"header_special_considerations is not provided\"</td>\n",
              "      <td>-4.140586</td>\n",
              "      <td>12.871228</td>\n",
              "      <td>-0.844462</td>\n",
              "    </tr>\n",
              "    <tr>\n",
              "      <th>147</th>\n",
              "      <td>147</td>\n",
              "      <td>33</td>\n",
              "      <td>Jogging</td>\n",
              "      <td>49121682296000</td>\n",
              "      <td>\"header_sensor_description is not provided\"</td>\n",
              "      <td>\"header_participant_description is not provided\"</td>\n",
              "      <td>\"header_special_considerations is not provided\"</td>\n",
              "      <td>3.023717</td>\n",
              "      <td>2.369940</td>\n",
              "      <td>2.029432</td>\n",
              "    </tr>\n",
              "    <tr>\n",
              "      <th>148</th>\n",
              "      <td>148</td>\n",
              "      <td>33</td>\n",
              "      <td>Jogging</td>\n",
              "      <td>49121792312000</td>\n",
              "      <td>\"header_sensor_description is not provided\"</td>\n",
              "      <td>\"header_participant_description is not provided\"</td>\n",
              "      <td>\"header_special_considerations is not provided\"</td>\n",
              "      <td>-1.988571</td>\n",
              "      <td>5.979332</td>\n",
              "      <td>0.040861</td>\n",
              "    </tr>\n",
              "    <tr>\n",
              "      <th>149</th>\n",
              "      <td>149</td>\n",
              "      <td>33</td>\n",
              "      <td>Jogging</td>\n",
              "      <td>49121902297000</td>\n",
              "      <td>\"header_sensor_description is not provided\"</td>\n",
              "      <td>\"header_participant_description is not provided\"</td>\n",
              "      <td>\"header_special_considerations is not provided\"</td>\n",
              "      <td>2.955615</td>\n",
              "      <td>19.572440</td>\n",
              "      <td>7.627395</td>\n",
              "    </tr>\n",
              "  </tbody>\n",
              "</table>\n",
              "<p>150 rows × 10 columns</p>\n",
              "</div>"
            ],
            "text/plain": [
              "     Unnamed: 0  HEADER_USER_ID  ... Y-AXIS-ACCELERATION  Z-AXIS-ACCELERATION\n",
              "0             0              33  ...           11.264028             0.953424\n",
              "1             1              33  ...           10.882658            -0.081722\n",
              "2             2              33  ...           18.496431             3.023717\n",
              "3             3              33  ...           12.108489             7.205164\n",
              "4             4              33  ...           -2.492524            -6.510526\n",
              "..          ...             ...  ...                 ...                  ...\n",
              "145         145              33  ...           13.334320            -6.319841\n",
              "146         146              33  ...           12.871228            -0.844462\n",
              "147         147              33  ...            2.369940             2.029432\n",
              "148         148              33  ...            5.979332             0.040861\n",
              "149         149              33  ...           19.572440             7.627395\n",
              "\n",
              "[150 rows x 10 columns]"
            ]
          },
          "metadata": {},
          "execution_count": 6
        }
      ]
    },
    {
      "cell_type": "markdown",
      "metadata": {
        "id": "2siPcnvsegXu"
      },
      "source": [
        "**We have cleaned our dataset!** Our next steps would be checking the dataset's documentation and filling out the description columns. But for now, let's look into the accelerations some more:"
      ]
    },
    {
      "cell_type": "code",
      "metadata": {
        "id": "0dK0n76X_HWt",
        "colab": {
          "base_uri": "https://localhost:8080/",
          "height": 265
        },
        "outputId": "706abea6-1603-424b-bd74-75e60960a951"
      },
      "source": [
        "axes.hist('X-AXIS-ACCELERATION', 'Y-AXIS-ACCELERATION','Z-AXIS-ACCELERATION',overlay = True)"
      ],
      "execution_count": 7,
      "outputs": [
        {
          "output_type": "display_data",
          "data": {
            "image/png": "[encoded data removed]",
            "text/plain": [
              "<Figure size 432x288 with 1 Axes>"
            ]
          },
          "metadata": {
            "needs_background": "light"
          }
        }
      ]
    },
    {
      "cell_type": "markdown",
      "metadata": {
        "id": "BQ7cmwkCji6v"
      },
      "source": [
        "**Some things to pay attention to:**\n",
        "* Acceleration in y-direction is higher than in x or z directions\n",
        "* Acceleration in x-direction looks to be on the lower end\n",
        "*Lots of overlap between 0-5 m/s^2"
      ]
    },
    {
      "cell_type": "markdown",
      "metadata": {
        "id": "Eqg_2U-BkPi3"
      },
      "source": [
        "##**That's it! Questions?**##"
      ]
    },
    {
      "cell_type": "markdown",
      "metadata": {
        "id": "Hmo-JyqrL1_d"
      },
      "source": [
        "**Resources:**\n",
        "\n",
        "[WISDM Dataset](https://www.cis.fordham.edu/wisdm/dataset.php), Fordham University\n",
        "\n",
        "[Activity Trackers](https://www.nytimes.com/interactive/projects/well/2014/03/accelerometers.html), New York Times\n"
      ]
    }
  ]
}